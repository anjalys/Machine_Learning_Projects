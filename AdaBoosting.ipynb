{
  "nbformat": 4,
  "nbformat_minor": 0,
  "metadata": {
    "colab": {
      "name": "AdaBoosting.ipynb",
      "provenance": [],
      "collapsed_sections": []
    },
    "kernelspec": {
      "name": "python3",
      "display_name": "Python 3"
    },
    "language_info": {
      "name": "python"
    }
  },
  "cells": [
    {
      "cell_type": "markdown",
      "metadata": {
        "id": "AG5h8xbXdZHC"
      },
      "source": [
        ""
      ]
    },
    {
      "cell_type": "code",
      "metadata": {
        "colab": {
          "resources": {
            "http://localhost:8080/nbextensions/google.colab/files.js": {
              "data": "Ly8gQ29weXJpZ2h0IDIwMTcgR29vZ2xlIExMQwovLwovLyBMaWNlbnNlZCB1bmRlciB0aGUgQXBhY2hlIExpY2Vuc2UsIFZlcnNpb24gMi4wICh0aGUgIkxpY2Vuc2UiKTsKLy8geW91IG1heSBub3QgdXNlIHRoaXMgZmlsZSBleGNlcHQgaW4gY29tcGxpYW5jZSB3aXRoIHRoZSBMaWNlbnNlLgovLyBZb3UgbWF5IG9idGFpbiBhIGNvcHkgb2YgdGhlIExpY2Vuc2UgYXQKLy8KLy8gICAgICBodHRwOi8vd3d3LmFwYWNoZS5vcmcvbGljZW5zZXMvTElDRU5TRS0yLjAKLy8KLy8gVW5sZXNzIHJlcXVpcmVkIGJ5IGFwcGxpY2FibGUgbGF3IG9yIGFncmVlZCB0byBpbiB3cml0aW5nLCBzb2Z0d2FyZQovLyBkaXN0cmlidXRlZCB1bmRlciB0aGUgTGljZW5zZSBpcyBkaXN0cmlidXRlZCBvbiBhbiAiQVMgSVMiIEJBU0lTLAovLyBXSVRIT1VUIFdBUlJBTlRJRVMgT1IgQ09ORElUSU9OUyBPRiBBTlkgS0lORCwgZWl0aGVyIGV4cHJlc3Mgb3IgaW1wbGllZC4KLy8gU2VlIHRoZSBMaWNlbnNlIGZvciB0aGUgc3BlY2lmaWMgbGFuZ3VhZ2UgZ292ZXJuaW5nIHBlcm1pc3Npb25zIGFuZAovLyBsaW1pdGF0aW9ucyB1bmRlciB0aGUgTGljZW5zZS4KCi8qKgogKiBAZmlsZW92ZXJ2aWV3IEhlbHBlcnMgZm9yIGdvb2dsZS5jb2xhYiBQeXRob24gbW9kdWxlLgogKi8KKGZ1bmN0aW9uKHNjb3BlKSB7CmZ1bmN0aW9uIHNwYW4odGV4dCwgc3R5bGVBdHRyaWJ1dGVzID0ge30pIHsKICBjb25zdCBlbGVtZW50ID0gZG9jdW1lbnQuY3JlYXRlRWxlbWVudCgnc3BhbicpOwogIGVsZW1lbnQudGV4dENvbnRlbnQgPSB0ZXh0OwogIGZvciAoY29uc3Qga2V5IG9mIE9iamVjdC5rZXlzKHN0eWxlQXR0cmlidXRlcykpIHsKICAgIGVsZW1lbnQuc3R5bGVba2V5XSA9IHN0eWxlQXR0cmlidXRlc1trZXldOwogIH0KICByZXR1cm4gZWxlbWVudDsKfQoKLy8gTWF4IG51bWJlciBvZiBieXRlcyB3aGljaCB3aWxsIGJlIHVwbG9hZGVkIGF0IGEgdGltZS4KY29uc3QgTUFYX1BBWUxPQURfU0laRSA9IDEwMCAqIDEwMjQ7CgpmdW5jdGlvbiBfdXBsb2FkRmlsZXMoaW5wdXRJZCwgb3V0cHV0SWQpIHsKICBjb25zdCBzdGVwcyA9IHVwbG9hZEZpbGVzU3RlcChpbnB1dElkLCBvdXRwdXRJZCk7CiAgY29uc3Qgb3V0cHV0RWxlbWVudCA9IGRvY3VtZW50LmdldEVsZW1lbnRCeUlkKG91dHB1dElkKTsKICAvLyBDYWNoZSBzdGVwcyBvbiB0aGUgb3V0cHV0RWxlbWVudCB0byBtYWtlIGl0IGF2YWlsYWJsZSBmb3IgdGhlIG5leHQgY2FsbAogIC8vIHRvIHVwbG9hZEZpbGVzQ29udGludWUgZnJvbSBQeXRob24uCiAgb3V0cHV0RWxlbWVudC5zdGVwcyA9IHN0ZXBzOwoKICByZXR1cm4gX3VwbG9hZEZpbGVzQ29udGludWUob3V0cHV0SWQpOwp9CgovLyBUaGlzIGlzIHJvdWdobHkgYW4gYXN5bmMgZ2VuZXJhdG9yIChub3Qgc3VwcG9ydGVkIGluIHRoZSBicm93c2VyIHlldCksCi8vIHdoZXJlIHRoZXJlIGFyZSBtdWx0aXBsZSBhc3luY2hyb25vdXMgc3RlcHMgYW5kIHRoZSBQeXRob24gc2lkZSBpcyBnb2luZwovLyB0byBwb2xsIGZvciBjb21wbGV0aW9uIG9mIGVhY2ggc3RlcC4KLy8gVGhpcyB1c2VzIGEgUHJvbWlzZSB0byBibG9jayB0aGUgcHl0aG9uIHNpZGUgb24gY29tcGxldGlvbiBvZiBlYWNoIHN0ZXAsCi8vIHRoZW4gcGFzc2VzIHRoZSByZXN1bHQgb2YgdGhlIHByZXZpb3VzIHN0ZXAgYXMgdGhlIGlucHV0IHRvIHRoZSBuZXh0IHN0ZXAuCmZ1bmN0aW9uIF91cGxvYWRGaWxlc0NvbnRpbnVlKG91dHB1dElkKSB7CiAgY29uc3Qgb3V0cHV0RWxlbWVudCA9IGRvY3VtZW50LmdldEVsZW1lbnRCeUlkKG91dHB1dElkKTsKICBjb25zdCBzdGVwcyA9IG91dHB1dEVsZW1lbnQuc3RlcHM7CgogIGNvbnN0IG5leHQgPSBzdGVwcy5uZXh0KG91dHB1dEVsZW1lbnQubGFzdFByb21pc2VWYWx1ZSk7CiAgcmV0dXJuIFByb21pc2UucmVzb2x2ZShuZXh0LnZhbHVlLnByb21pc2UpLnRoZW4oKHZhbHVlKSA9PiB7CiAgICAvLyBDYWNoZSB0aGUgbGFzdCBwcm9taXNlIHZhbHVlIHRvIG1ha2UgaXQgYXZhaWxhYmxlIHRvIHRoZSBuZXh0CiAgICAvLyBzdGVwIG9mIHRoZSBnZW5lcmF0b3IuCiAgICBvdXRwdXRFbGVtZW50Lmxhc3RQcm9taXNlVmFsdWUgPSB2YWx1ZTsKICAgIHJldHVybiBuZXh0LnZhbHVlLnJlc3BvbnNlOwogIH0pOwp9CgovKioKICogR2VuZXJhdG9yIGZ1bmN0aW9uIHdoaWNoIGlzIGNhbGxlZCBiZXR3ZWVuIGVhY2ggYXN5bmMgc3RlcCBvZiB0aGUgdXBsb2FkCiAqIHByb2Nlc3MuCiAqIEBwYXJhbSB7c3RyaW5nfSBpbnB1dElkIEVsZW1lbnQgSUQgb2YgdGhlIGlucHV0IGZpbGUgcGlja2VyIGVsZW1lbnQuCiAqIEBwYXJhbSB7c3RyaW5nfSBvdXRwdXRJZCBFbGVtZW50IElEIG9mIHRoZSBvdXRwdXQgZGlzcGxheS4KICogQHJldHVybiB7IUl0ZXJhYmxlPCFPYmplY3Q+fSBJdGVyYWJsZSBvZiBuZXh0IHN0ZXBzLgogKi8KZnVuY3Rpb24qIHVwbG9hZEZpbGVzU3RlcChpbnB1dElkLCBvdXRwdXRJZCkgewogIGNvbnN0IGlucHV0RWxlbWVudCA9IGRvY3VtZW50LmdldEVsZW1lbnRCeUlkKGlucHV0SWQpOwogIGlucHV0RWxlbWVudC5kaXNhYmxlZCA9IGZhbHNlOwoKICBjb25zdCBvdXRwdXRFbGVtZW50ID0gZG9jdW1lbnQuZ2V0RWxlbWVudEJ5SWQob3V0cHV0SWQpOwogIG91dHB1dEVsZW1lbnQuaW5uZXJIVE1MID0gJyc7CgogIGNvbnN0IHBpY2tlZFByb21pc2UgPSBuZXcgUHJvbWlzZSgocmVzb2x2ZSkgPT4gewogICAgaW5wdXRFbGVtZW50LmFkZEV2ZW50TGlzdGVuZXIoJ2NoYW5nZScsIChlKSA9PiB7CiAgICAgIHJlc29sdmUoZS50YXJnZXQuZmlsZXMpOwogICAgfSk7CiAgfSk7CgogIGNvbnN0IGNhbmNlbCA9IGRvY3VtZW50LmNyZWF0ZUVsZW1lbnQoJ2J1dHRvbicpOwogIGlucHV0RWxlbWVudC5wYXJlbnRFbGVtZW50LmFwcGVuZENoaWxkKGNhbmNlbCk7CiAgY2FuY2VsLnRleHRDb250ZW50ID0gJ0NhbmNlbCB1cGxvYWQnOwogIGNvbnN0IGNhbmNlbFByb21pc2UgPSBuZXcgUHJvbWlzZSgocmVzb2x2ZSkgPT4gewogICAgY2FuY2VsLm9uY2xpY2sgPSAoKSA9PiB7CiAgICAgIHJlc29sdmUobnVsbCk7CiAgICB9OwogIH0pOwoKICAvLyBXYWl0IGZvciB0aGUgdXNlciB0byBwaWNrIHRoZSBmaWxlcy4KICBjb25zdCBmaWxlcyA9IHlpZWxkIHsKICAgIHByb21pc2U6IFByb21pc2UucmFjZShbcGlja2VkUHJvbWlzZSwgY2FuY2VsUHJvbWlzZV0pLAogICAgcmVzcG9uc2U6IHsKICAgICAgYWN0aW9uOiAnc3RhcnRpbmcnLAogICAgfQogIH07CgogIGNhbmNlbC5yZW1vdmUoKTsKCiAgLy8gRGlzYWJsZSB0aGUgaW5wdXQgZWxlbWVudCBzaW5jZSBmdXJ0aGVyIHBpY2tzIGFyZSBub3QgYWxsb3dlZC4KICBpbnB1dEVsZW1lbnQuZGlzYWJsZWQgPSB0cnVlOwoKICBpZiAoIWZpbGVzKSB7CiAgICByZXR1cm4gewogICAgICByZXNwb25zZTogewogICAgICAgIGFjdGlvbjogJ2NvbXBsZXRlJywKICAgICAgfQogICAgfTsKICB9CgogIGZvciAoY29uc3QgZmlsZSBvZiBmaWxlcykgewogICAgY29uc3QgbGkgPSBkb2N1bWVudC5jcmVhdGVFbGVtZW50KCdsaScpOwogICAgbGkuYXBwZW5kKHNwYW4oZmlsZS5uYW1lLCB7Zm9udFdlaWdodDogJ2JvbGQnfSkpOwogICAgbGkuYXBwZW5kKHNwYW4oCiAgICAgICAgYCgke2ZpbGUudHlwZSB8fCAnbi9hJ30pIC0gJHtmaWxlLnNpemV9IGJ5dGVzLCBgICsKICAgICAgICBgbGFzdCBtb2RpZmllZDogJHsKICAgICAgICAgICAgZmlsZS5sYXN0TW9kaWZpZWREYXRlID8gZmlsZS5sYXN0TW9kaWZpZWREYXRlLnRvTG9jYWxlRGF0ZVN0cmluZygpIDoKICAgICAgICAgICAgICAgICAgICAgICAgICAgICAgICAgICAgJ24vYSd9IC0gYCkpOwogICAgY29uc3QgcGVyY2VudCA9IHNwYW4oJzAlIGRvbmUnKTsKICAgIGxpLmFwcGVuZENoaWxkKHBlcmNlbnQpOwoKICAgIG91dHB1dEVsZW1lbnQuYXBwZW5kQ2hpbGQobGkpOwoKICAgIGNvbnN0IGZpbGVEYXRhUHJvbWlzZSA9IG5ldyBQcm9taXNlKChyZXNvbHZlKSA9PiB7CiAgICAgIGNvbnN0IHJlYWRlciA9IG5ldyBGaWxlUmVhZGVyKCk7CiAgICAgIHJlYWRlci5vbmxvYWQgPSAoZSkgPT4gewogICAgICAgIHJlc29sdmUoZS50YXJnZXQucmVzdWx0KTsKICAgICAgfTsKICAgICAgcmVhZGVyLnJlYWRBc0FycmF5QnVmZmVyKGZpbGUpOwogICAgfSk7CiAgICAvLyBXYWl0IGZvciB0aGUgZGF0YSB0byBiZSByZWFkeS4KICAgIGxldCBmaWxlRGF0YSA9IHlpZWxkIHsKICAgICAgcHJvbWlzZTogZmlsZURhdGFQcm9taXNlLAogICAgICByZXNwb25zZTogewogICAgICAgIGFjdGlvbjogJ2NvbnRpbnVlJywKICAgICAgfQogICAgfTsKCiAgICAvLyBVc2UgYSBjaHVua2VkIHNlbmRpbmcgdG8gYXZvaWQgbWVzc2FnZSBzaXplIGxpbWl0cy4gU2VlIGIvNjIxMTU2NjAuCiAgICBsZXQgcG9zaXRpb24gPSAwOwogICAgd2hpbGUgKHBvc2l0aW9uIDwgZmlsZURhdGEuYnl0ZUxlbmd0aCkgewogICAgICBjb25zdCBsZW5ndGggPSBNYXRoLm1pbihmaWxlRGF0YS5ieXRlTGVuZ3RoIC0gcG9zaXRpb24sIE1BWF9QQVlMT0FEX1NJWkUpOwogICAgICBjb25zdCBjaHVuayA9IG5ldyBVaW50OEFycmF5KGZpbGVEYXRhLCBwb3NpdGlvbiwgbGVuZ3RoKTsKICAgICAgcG9zaXRpb24gKz0gbGVuZ3RoOwoKICAgICAgY29uc3QgYmFzZTY0ID0gYnRvYShTdHJpbmcuZnJvbUNoYXJDb2RlLmFwcGx5KG51bGwsIGNodW5rKSk7CiAgICAgIHlpZWxkIHsKICAgICAgICByZXNwb25zZTogewogICAgICAgICAgYWN0aW9uOiAnYXBwZW5kJywKICAgICAgICAgIGZpbGU6IGZpbGUubmFtZSwKICAgICAgICAgIGRhdGE6IGJhc2U2NCwKICAgICAgICB9LAogICAgICB9OwogICAgICBwZXJjZW50LnRleHRDb250ZW50ID0KICAgICAgICAgIGAke01hdGgucm91bmQoKHBvc2l0aW9uIC8gZmlsZURhdGEuYnl0ZUxlbmd0aCkgKiAxMDApfSUgZG9uZWA7CiAgICB9CiAgfQoKICAvLyBBbGwgZG9uZS4KICB5aWVsZCB7CiAgICByZXNwb25zZTogewogICAgICBhY3Rpb246ICdjb21wbGV0ZScsCiAgICB9CiAgfTsKfQoKc2NvcGUuZ29vZ2xlID0gc2NvcGUuZ29vZ2xlIHx8IHt9OwpzY29wZS5nb29nbGUuY29sYWIgPSBzY29wZS5nb29nbGUuY29sYWIgfHwge307CnNjb3BlLmdvb2dsZS5jb2xhYi5fZmlsZXMgPSB7CiAgX3VwbG9hZEZpbGVzLAogIF91cGxvYWRGaWxlc0NvbnRpbnVlLAp9Owp9KShzZWxmKTsK",
              "ok": true,
              "headers": [
                [
                  "content-type",
                  "application/javascript"
                ]
              ],
              "status": 200,
              "status_text": ""
            }
          },
          "base_uri": "https://localhost:8080/",
          "height": 72
        },
        "id": "Ws5w9N6L9r4z",
        "outputId": "06b2970d-fa3d-40dc-b40d-1a0899cf6332"
      },
      "source": [
        "from google.colab import files\n",
        "data = files.upload()"
      ],
      "execution_count": null,
      "outputs": [
        {
          "output_type": "display_data",
          "data": {
            "text/html": [
              "\n",
              "     <input type=\"file\" id=\"files-f6589f10-3632-4dd4-af5b-929c53c6b9f7\" name=\"files[]\" multiple disabled\n",
              "        style=\"border:none\" />\n",
              "     <output id=\"result-f6589f10-3632-4dd4-af5b-929c53c6b9f7\">\n",
              "      Upload widget is only available when the cell has been executed in the\n",
              "      current browser session. Please rerun this cell to enable.\n",
              "      </output>\n",
              "      <script src=\"/nbextensions/google.colab/files.js\"></script> "
            ],
            "text/plain": [
              "<IPython.core.display.HTML object>"
            ]
          },
          "metadata": {
            "tags": []
          }
        },
        {
          "output_type": "stream",
          "text": [
            "Saving letterCG.bin to letterCG.bin\n"
          ],
          "name": "stdout"
        }
      ]
    },
    {
      "cell_type": "code",
      "metadata": {
        "id": "0fd4J9xwoJ0y"
      },
      "source": [
        "#import Libraries\n",
        "import pandas as pd\n",
        "import numpy as np\n",
        "\n",
        "#Visualization library\n",
        "import matplotlib.pyplot as plt\n",
        "\n",
        "#import train test plit from sklearn to spli train and test data\n",
        "from sklearn.model_selection import train_test_split\n",
        "\n",
        "#import adaBoost foe classification with weak learners\n",
        "#AdaBoost by default use decision tree algorithm along with max_depth as 1\n",
        "from sklearn.ensemble import AdaBoostClassifier\n",
        "from sklearn.tree import DecisionTreeClassifier\n",
        "\n",
        "#import accuracy_score from sklearn metrics to calculate the accuracy of the model\n",
        "from sklearn.metrics import accuracy_score"
      ],
      "execution_count": null,
      "outputs": []
    },
    {
      "cell_type": "code",
      "metadata": {
        "id": "Jkd3cGMXdXNC"
      },
      "source": [
        "#Read binary file \n",
        "with open(\"letterCG.bin\", mode='rb') as file:\n",
        "  f = file.read()"
      ],
      "execution_count": null,
      "outputs": []
    },
    {
      "cell_type": "code",
      "metadata": {
        "id": "_InQ_yBjdXnc",
        "colab": {
          "base_uri": "https://localhost:8080/"
        },
        "outputId": "87fc8800-364c-4410-d15a-9a924b2515b1"
      },
      "source": [
        "#check the content of binary file\n",
        "print(type(f))\n",
        "print(f)"
      ],
      "execution_count": null,
      "outputs": [
        {
          "output_type": "stream",
          "text": [
            "<class 'bytes'>\n",
            "b'Class x-box y-box width high  onpix x-bar y-bar x2bar y2bar xybar x2ybr xy2br x-ege xegvy y-ege yegvx \\nC 4 10 5 8 2 5 7 7 10 7 6 13 1 8 4 9\\nC 3 5 4 4 2 4 8 5 7 12 9 11 1 10 2 7\\nG 5 10 6 7 3 8 7 8 8 6 7 9 2 7 5 10\\nC 5 9 6 7 4 3 8 6 7 12 10 13 1 9 3 7\\nG 4 8 5 6 3 6 6 7 6 10 7 12 2 9 4 9\\nG 2 1 2 2 1 7 7 6 5 6 6 10 2 9 4 9\\nG 3 7 4 5 3 6 5 5 6 6 6 9 2 9 3 7\\nC 3 6 5 4 1 6 8 6 10 7 7 12 1 7 4 9\\nG 5 7 6 5 3 6 7 6 6 10 8 8 2 9 5 9\\nC 5 8 6 6 2 6 7 7 10 6 6 15 1 8 4 9\\nG 4 7 5 5 3 6 6 6 7 6 5 9 2 10 4 7\\nC 2 3 2 2 1 6 8 6 7 8 7 13 1 9 3 10\\nC 4 7 5 5 2 5 8 7 10 6 7 11 1 7 4 8\\nG 2 1 2 1 1 8 6 6 6 6 5 9 1 7 5 10\\nG 4 7 6 5 3 7 6 7 8 8 5 12 2 10 4 8\\nC 4 7 5 5 3 7 7 8 6 7 6 10 3 8 3 9\\nG 4 7 5 5 3 6 7 7 7 10 7 11 2 9 4 9\\nG 5 6 6 6 7 7 9 6 2 7 7 7 9 12 9 7\\nG 5 7 6 5 6 7 6 5 3 7 6 9 5 8 7 7\\nC 5 10 6 8 4 4 8 7 9 8 9 13 1 8 4 9\\nC 4 11 5 8 4 5 8 8 6 10 8 13 3 12 5 8\\nC 6 10 6 7 4 6 8 7 8 13 8 10 2 11 3 7\\nG 3 5 4 4 2 6 6 5 5 9 7 11 2 9 4 10\\nG 5 8 7 7 7 7 10 5 2 7 7 8 6 11 6 8\\nG 6 9 6 6 4 6 7 6 6 9 7 12 2 9 4 9\\nC 2 5 3 4 2 6 8 7 7 8 8 13 1 9 4 10\\nC 6 6 7 8 3 5 6 7 11 7 5 14 1 9 4 8\\nG 4 7 5 5 2 7 6 7 9 6 5 10 1 8 6 11\\nG 2 3 3 1 1 7 7 6 5 7 6 9 2 9 4 10\\nG 2 5 3 3 2 6 7 6 6 6 6 11 2 9 4 9\\nC 6 10 6 8 3 3 8 5 8 10 10 14 1 7 3 7\\nG 5 7 6 6 7 7 9 5 2 7 7 8 6 11 7 8\\nG 6 10 8 7 5 7 7 7 6 5 7 9 3 8 4 8\\nC 2 1 3 3 1 6 8 7 7 8 8 13 1 10 4 10\\nC 5 5 6 8 2 6 7 7 11 6 6 14 1 8 4 9\\nC 4 8 6 6 4 5 7 6 8 6 6 13 1 7 4 9\\nC 9 13 6 7 3 8 7 7 7 11 5 8 2 9 5 9\\nG 2 1 2 2 1 7 7 6 5 6 6 10 2 9 4 9\\nG 6 10 8 8 8 9 8 6 3 5 7 10 9 8 5 9\\nC 2 4 3 2 1 6 8 7 8 8 8 13 1 9 4 10\\nC 6 9 6 7 4 4 7 5 7 10 9 14 4 9 5 5\\nG 2 4 3 3 2 6 8 5 5 9 8 9 2 8 4 9\\nC 3 6 4 4 2 6 8 8 8 9 8 13 2 10 4 9\\nG 3 5 4 4 2 6 7 5 5 9 7 10 2 8 4 9\\nC 4 8 6 6 5 6 6 3 4 8 6 11 6 9 3 9\\nG 4 4 5 6 3 7 5 7 8 6 5 8 2 8 6 11\\nC 2 5 3 3 1 5 9 5 7 12 9 11 1 10 2 7\\nC 5 6 6 5 5 6 7 4 5 7 6 11 5 10 8 11\\nC 3 4 4 2 1 5 8 5 7 10 8 13 1 9 3 8\\nG 5 10 6 8 5 5 7 6 6 10 8 11 2 9 4 10\\nC 1 3 2 2 1 6 8 6 7 7 8 12 1 9 4 10\\nG 3 5 4 4 2 5 7 5 5 9 7 10 2 8 4 9\\nG 5 7 6 5 6 7 8 6 2 6 6 9 5 7 7 7\\nG 2 4 2 2 1 6 7 5 5 9 7 10 2 8 4 9\\nG 7 8 9 7 10 7 6 5 4 7 7 9 8 10 9 7\\nG 4 9 6 7 6 7 5 6 3 8 6 11 4 8 7 8\\nG 10 15 9 8 5 7 6 6 6 10 6 7 5 8 6 6\\nC 8 14 6 8 5 9 6 4 3 9 8 11 4 9 8 13\\nG 5 11 7 8 5 5 6 6 7 6 5 9 4 9 4 7\\nG 5 7 7 5 6 7 7 5 2 7 6 11 5 8 8 8\\nG 6 8 6 6 4 7 6 6 7 10 6 12 2 10 4 9\\nG 4 9 5 7 4 5 6 6 5 9 7 12 2 8 4 10\\nC 1 0 1 1 0 6 7 6 8 7 6 14 0 8 4 10\\nG 7 12 6 6 4 6 7 7 5 9 7 6 4 8 5 6\\nG 5 10 5 8 4 5 7 6 6 10 8 10 2 8 5 9\\nG 3 9 4 6 2 7 7 8 7 5 6 11 2 7 5 10\\nC 3 10 4 8 3 5 7 6 7 7 6 13 1 8 4 10\\nC 5 9 7 7 8 7 5 4 3 7 7 11 8 9 4 7\\nC 5 11 4 6 3 5 9 4 4 9 7 9 3 9 8 8\\nG 3 6 4 4 2 6 7 6 6 10 7 10 2 10 4 9\\nC 5 7 6 5 6 6 6 4 3 7 6 11 5 9 3 9\\nG 4 8 5 6 3 7 7 8 6 7 6 12 3 8 4 9\\nG 5 9 7 7 7 7 9 6 3 5 5 10 4 8 7 8\\nC 3 7 4 5 1 6 8 7 10 5 7 13 1 7 4 9\\nG 3 5 4 7 2 7 6 8 9 8 4 13 1 9 5 10\\nC 1 0 2 1 0 6 7 6 8 7 6 14 0 8 4 10\\nC 4 6 4 4 2 5 9 6 8 12 10 11 1 9 2 7\\nG 4 8 5 6 3 8 6 6 7 11 6 11 2 10 4 9\\nC 3 2 4 4 2 5 8 7 7 9 8 13 1 9 4 10\\nC 4 9 4 5 3 6 8 4 3 9 9 10 3 9 8 9\\nC 3 5 4 3 2 5 8 5 7 12 9 11 1 10 2 7\\nG 2 4 3 3 2 6 7 6 6 6 6 11 2 9 4 9\\nC 7 11 5 6 2 7 7 7 7 12 6 9 2 9 5 9\\nG 4 7 6 5 7 8 6 4 2 7 6 9 6 8 7 13\\nG 10 14 8 8 4 11 4 4 5 11 3 8 5 7 5 10\\nC 2 5 3 3 1 4 8 5 7 11 9 13 1 9 2 7\\nG 2 1 3 1 1 6 7 5 5 6 6 9 2 9 4 8\\nG 5 10 7 8 8 9 6 5 2 6 6 10 8 8 5 10\\nC 4 7 4 5 2 5 9 6 7 12 9 9 2 10 2 7\\nC 2 1 3 2 1 6 7 6 9 7 6 14 0 8 4 9\\nC 2 1 3 2 1 6 7 6 7 8 7 13 1 9 4 10\\nG 6 10 7 8 5 6 7 7 7 5 7 10 2 7 4 8\\nC 9 13 7 7 5 7 9 4 4 9 8 9 3 9 8 11\\nG 2 3 3 2 1 7 6 5 5 7 6 9 2 9 4 9\\nG 6 6 7 8 3 8 5 8 9 6 5 10 2 8 6 11\\nC 1 0 2 1 0 7 7 6 8 7 6 13 0 8 4 10\\nG 3 5 4 4 2 6 7 6 6 10 7 10 2 9 4 9\\nC 4 9 5 7 4 4 8 6 7 9 9 15 1 9 4 10\\nG 2 3 4 2 2 7 6 6 5 6 6 9 2 9 4 9\\nG 2 3 3 2 2 7 7 5 5 6 6 9 2 9 4 9\\nC 1 0 2 0 0 7 7 6 8 7 6 13 0 8 4 10\\nC 2 5 3 3 1 4 9 5 6 11 10 11 1 9 2 7\\nG 3 6 4 4 4 7 7 5 2 7 6 10 4 9 7 7\\nC 2 4 3 3 1 4 9 5 6 11 9 11 1 9 2 8\\nG 3 4 4 3 2 6 7 5 5 9 7 9 2 9 4 9\\nG 4 7 6 5 4 6 6 5 5 6 6 7 3 7 4 7\\nC 3 2 4 4 2 6 8 7 8 8 8 14 1 9 4 10\\nG 5 9 5 6 3 6 7 7 7 10 7 10 2 9 4 9\\nC 6 11 7 8 9 7 5 4 4 8 7 11 6 10 5 8\\nC 8 15 6 8 5 5 10 4 5 9 7 8 3 9 9 9\\nC 8 12 5 7 3 5 10 6 8 11 8 8 1 8 6 8\\nG 5 10 6 7 3 7 5 8 10 7 5 12 1 9 5 10\\nC 3 5 4 3 2 6 7 7 7 8 7 14 2 9 4 10\\nC 8 11 5 6 2 7 9 6 7 12 7 8 2 9 5 9\\nC 4 8 5 6 3 5 8 6 6 8 8 15 3 10 4 10\\nG 6 10 7 8 3 8 7 8 8 6 6 9 2 7 6 11\\nC 7 10 8 8 5 5 8 6 7 12 9 12 3 11 4 6\\nG 8 13 7 7 4 7 3 6 2 6 5 4 4 7 5 7\\nC 5 10 6 7 4 5 7 7 10 7 6 11 2 8 5 11\\nG 6 10 6 7 5 5 7 6 5 9 8 11 2 9 4 9\\nG 1 3 2 2 1 6 7 5 5 9 7 10 2 8 4 10\\nC 5 8 6 6 2 3 10 5 8 12 11 10 1 8 2 6\\nC 4 6 5 4 5 5 7 4 5 7 6 9 5 11 3 8\\nC 9 15 7 8 5 8 7 5 3 8 8 10 4 9 8 13\\nG 2 4 3 3 2 6 7 5 5 10 7 10 2 9 4 9\\nC 2 1 2 2 0 6 7 6 9 7 6 15 0 8 4 10\\nG 4 7 4 5 2 7 6 6 6 11 6 12 2 10 4 10\\nC 6 11 5 6 4 7 7 4 3 9 8 10 4 9 8 11\\nG 2 3 3 2 1 7 7 5 6 10 6 10 2 9 3 9\\nC 6 10 7 8 4 6 8 7 8 13 8 10 2 11 3 7\\nG 5 11 6 8 7 7 8 6 2 6 6 10 4 8 7 7\\nG 5 8 6 6 4 7 6 7 8 7 5 11 3 11 5 8\\nC 4 6 5 4 5 6 6 4 4 7 6 11 5 9 3 8\\nG 5 8 5 6 4 7 6 6 7 10 7 11 2 10 4 9\\nG 3 4 4 3 2 6 7 5 5 9 7 10 2 8 4 10\\nG 1 0 2 0 0 8 6 5 4 6 5 9 1 8 5 10\\nG 5 11 4 6 3 7 9 4 4 9 6 5 3 9 8 7\\nG 3 7 4 5 2 8 7 7 7 6 6 10 2 7 5 11\\nC 4 9 5 7 3 4 7 5 6 11 9 14 2 8 3 8\\nC 2 1 3 2 1 6 8 7 8 8 8 13 1 9 4 10\\nG 7 10 7 8 6 5 7 6 5 8 8 11 2 7 5 10\\nC 4 9 5 7 6 8 6 5 3 7 7 11 5 9 3 8\\nG 4 4 6 6 2 8 5 8 9 6 5 10 2 8 5 10\\nC 3 3 4 5 2 6 6 7 9 9 5 13 1 9 4 8\\nG 5 10 5 8 4 5 6 6 5 9 8 12 2 9 4 10\\nC 4 9 5 7 3 6 8 6 8 7 6 14 1 8 4 9\\nC 6 12 4 6 2 5 10 5 8 11 8 9 2 8 5 8\\nC 6 12 4 6 2 7 7 7 6 11 6 8 2 9 5 9\\nG 5 9 5 7 4 6 6 7 6 8 7 12 3 7 5 8\\nG 5 11 6 8 5 6 6 6 6 10 6 13 3 8 4 9\\nC 6 11 6 8 3 5 8 7 8 13 10 11 2 10 3 7\\nC 3 9 4 7 3 6 8 8 7 10 7 12 2 10 4 10\\nC 3 6 4 5 4 5 6 3 5 7 6 11 4 10 6 9\\nC 1 0 2 1 0 6 7 6 9 7 6 14 0 8 4 10\\nG 4 7 5 5 5 8 5 4 3 7 6 10 6 8 4 10\\nC 2 3 2 2 1 4 8 4 7 10 9 12 1 8 2 7\\nC 4 8 4 6 2 4 9 6 7 12 10 12 2 9 3 7\\nG 3 7 5 5 5 9 7 5 2 7 6 10 5 9 4 10\\nC 4 7 5 5 3 8 7 8 6 6 7 10 3 8 3 9\\nG 4 7 4 5 2 6 7 6 5 9 8 10 2 8 4 9\\nC 4 5 5 7 2 5 7 7 10 7 6 13 1 8 4 8\\nC 6 10 7 8 5 3 7 4 7 10 8 15 4 9 5 6\\nG 4 8 5 6 2 7 7 7 8 6 6 8 2 7 6 11\\nC 5 11 5 8 4 4 7 5 6 11 9 14 2 10 4 7\\nC 3 6 4 4 1 6 7 6 9 6 6 13 1 7 4 8\\nG 2 1 3 1 1 8 6 6 6 6 5 9 1 7 6 10\\nC 2 6 3 4 2 6 8 8 8 8 8 14 1 9 4 9\\nC 3 7 4 5 2 3 9 5 8 11 11 11 1 8 3 7\\nG 4 7 4 5 2 6 7 6 6 10 8 9 2 9 4 9\\nC 7 13 5 7 4 7 7 4 3 9 8 11 4 9 9 11\\nC 4 8 5 7 5 5 7 4 4 7 6 11 4 9 8 10\\nG 4 10 6 8 7 8 6 5 2 6 6 10 7 8 5 10\\nC 4 9 6 7 4 5 8 6 6 8 8 15 3 10 4 9\\nC 4 6 5 4 3 4 8 5 7 9 9 14 1 8 3 8\\nG 6 11 7 8 6 7 7 8 7 6 5 10 2 7 5 11\\nC 9 13 6 7 3 6 9 6 7 12 7 7 2 9 5 9\\nG 8 11 7 6 4 7 6 6 5 9 5 6 4 7 5 7\\nG 7 11 7 8 6 6 6 6 6 10 7 12 2 10 4 10\\nG 7 10 7 8 5 5 7 6 6 9 7 12 2 9 4 10\\nG 2 0 2 1 1 8 6 6 5 6 5 9 1 8 5 10\\nC 6 9 6 6 4 7 8 6 8 13 7 10 3 11 4 6\\nC 2 1 3 2 1 6 8 7 7 8 7 13 1 9 4 10\\nC 3 6 4 4 2 6 7 6 7 6 7 12 1 8 4 10\\nG 5 10 6 8 4 6 6 8 7 8 5 13 2 9 5 9\\nC 5 10 6 8 2 6 7 7 10 6 6 15 1 8 4 9\\nG 4 8 5 6 4 7 6 7 7 7 4 11 1 8 5 11\\nC 5 5 6 8 2 6 7 7 10 7 6 15 1 8 4 9\\nG 2 3 3 2 1 7 7 6 6 6 6 10 2 9 4 9\\nC 4 7 4 5 2 3 8 5 7 11 11 12 1 8 2 7\\nC 2 6 3 4 1 4 7 7 9 7 6 11 1 9 4 9\\nG 2 3 2 2 1 6 7 5 4 9 7 9 2 9 4 9\\nG 4 6 6 4 5 7 7 5 3 6 6 10 4 8 7 8\\nC 2 2 3 4 2 6 8 7 7 8 8 14 1 9 4 10\\nC 3 8 4 6 3 6 8 6 5 9 8 14 1 9 3 11\\nG 4 5 5 8 2 7 6 8 9 6 5 11 1 8 6 11\\nG 3 4 4 3 2 6 6 6 6 6 6 11 2 9 4 9\\nG 3 8 5 6 4 6 6 6 5 5 7 10 2 8 4 9\\nG 4 9 5 7 6 9 5 5 2 7 6 10 7 8 5 10\\nG 5 10 6 8 8 9 6 5 2 7 6 10 8 8 5 10\\nC 5 8 5 6 4 6 7 6 6 12 8 11 2 11 4 7\\nC 5 10 6 8 2 4 7 7 11 7 6 12 1 8 4 9\\nG 3 7 5 5 5 8 9 6 3 6 6 9 4 8 6 7\\nC 6 12 5 6 4 7 9 4 5 8 7 9 4 8 8 10\\nG 6 11 6 8 4 6 7 7 6 9 8 11 3 7 6 8\\nG 1 0 2 1 0 8 7 6 5 6 5 9 1 7 5 10\\nG 7 9 7 7 5 5 7 6 6 10 8 11 2 9 4 10\\nG 5 9 4 5 3 7 9 4 3 8 6 5 3 10 9 7\\nG 2 1 3 2 1 6 7 5 5 6 6 9 2 9 4 8\\nC 6 9 8 7 8 6 6 4 5 7 6 10 6 9 4 8\\nG 1 0 1 0 0 7 6 6 5 6 5 9 1 7 4 10\\nC 6 11 6 8 4 5 7 7 8 12 9 14 2 10 4 7\\nC 5 8 6 6 4 7 8 8 6 5 7 12 5 8 4 8\\nG 9 13 7 7 5 9 6 5 4 9 5 7 3 9 8 9\\nC 4 4 5 7 2 5 7 7 10 7 6 14 1 8 4 9\\nG 2 3 3 5 2 8 8 8 6 5 7 9 2 7 5 11\\nG 3 10 4 7 2 7 6 8 8 6 6 11 2 8 5 11\\nC 3 2 4 4 2 6 8 7 8 9 8 13 1 9 4 10\\nG 2 4 3 3 2 6 7 5 4 9 7 10 2 9 4 10\\nC 3 7 5 6 5 5 8 3 5 7 6 11 3 9 7 9\\nG 5 11 7 8 9 8 7 5 2 6 6 10 7 8 6 12\\nG 3 8 4 6 2 7 6 8 7 6 5 11 1 8 5 11\\nC 7 11 8 8 5 5 7 5 7 12 9 13 4 11 5 5\\nC 3 5 4 7 2 5 7 7 10 7 5 14 1 8 4 9\\nC 2 3 2 1 1 5 8 5 6 11 9 11 1 9 3 8\\nC 5 4 6 7 2 6 9 7 11 5 7 12 1 6 4 8\\nC 5 9 4 5 3 7 6 4 4 9 9 11 4 10 9 10\\nC 2 5 3 3 1 4 8 4 7 11 9 12 1 9 2 7\\nG 3 5 4 4 2 6 7 6 7 7 5 10 2 9 4 9\\nC 7 9 7 7 4 4 7 5 7 11 9 14 3 10 4 7\\nG 6 8 8 7 8 7 10 6 2 7 7 8 6 11 7 8\\nC 4 8 5 6 6 7 6 3 4 8 6 11 5 9 3 8\\nG 2 6 3 4 2 7 7 7 6 6 6 8 2 7 6 11\\nC 4 9 5 7 2 5 7 7 10 7 7 12 1 8 4 8\\nC 5 11 6 8 5 5 8 8 7 10 8 13 2 11 4 10\\nC 3 4 4 3 1 5 9 5 7 11 9 12 1 9 3 7\\nC 9 13 6 8 3 6 9 7 7 11 7 6 2 9 6 8\\nC 2 4 3 3 1 4 9 4 7 11 9 12 1 9 2 7\\nG 3 3 5 5 2 8 6 7 8 6 5 10 1 8 6 11\\nC 3 6 5 4 3 7 7 7 6 8 6 11 3 9 4 8\\nC 6 12 5 6 4 6 8 4 4 10 8 9 4 9 9 9\\nG 8 14 7 8 5 8 6 4 3 9 6 8 4 9 8 8\\nG 7 14 6 8 5 7 7 5 4 9 5 6 4 9 9 8\\nC 5 7 7 6 6 5 6 4 5 7 6 11 4 10 7 10\\nC 3 4 4 3 1 5 9 5 7 12 9 10 1 10 3 7\\nC 2 1 2 1 1 6 7 6 10 7 6 14 0 8 4 9\\nC 4 6 5 4 2 4 8 6 9 10 10 12 1 8 3 7\\nC 2 3 3 1 1 5 9 4 6 11 9 11 1 9 2 8\\nC 7 11 9 8 6 7 7 8 6 6 7 11 4 7 4 9\\nG 4 6 6 4 5 7 8 5 3 6 6 8 5 7 7 7\\nG 4 7 5 5 4 6 7 6 4 5 7 9 2 7 4 9\\nG 5 5 6 7 3 8 6 8 9 6 5 11 1 8 6 11\\nC 3 4 4 3 2 4 8 4 6 11 10 12 1 9 2 7\\nG 4 11 5 8 3 7 6 9 8 6 6 11 2 8 5 11\\nG 2 0 2 1 1 8 6 5 5 6 5 9 1 8 5 10\\nC 3 3 4 4 1 6 7 7 9 7 6 13 1 9 4 9\\nG 4 8 6 6 3 8 8 8 8 6 7 8 2 7 6 11\\nC 5 11 6 8 3 6 7 7 11 5 6 14 1 7 4 8\\nG 4 9 5 7 3 8 7 8 7 6 6 9 2 7 6 10\\nG 8 14 7 8 4 8 4 5 3 8 4 5 4 7 5 8\\nC 5 4 6 6 2 6 7 7 11 7 6 14 1 8 4 9\\nG 6 8 8 7 8 7 10 6 2 7 7 8 6 11 7 8\\nC 3 6 4 4 2 6 8 7 7 9 8 12 2 10 4 10\\nG 3 5 4 7 3 7 7 8 7 7 7 7 2 7 6 11\\nC 2 4 2 3 1 6 8 6 7 8 8 13 1 10 3 10\\nC 4 6 6 5 5 4 7 3 6 6 6 10 4 10 7 7\\nG 2 6 3 4 2 7 6 6 6 6 5 10 1 8 5 11\\nG 4 6 4 4 3 7 6 6 5 9 6 13 2 8 4 10\\nC 4 7 5 5 2 6 7 6 7 12 8 13 2 10 3 8\\nC 3 4 4 6 2 6 7 7 9 8 5 13 1 9 4 9\\nG 6 11 6 8 5 6 6 6 6 10 6 13 4 9 6 8\\nG 4 10 6 7 4 7 7 7 6 5 7 8 2 7 4 8\\nG 5 11 7 8 5 5 6 6 7 6 6 8 4 7 4 7\\nG 7 12 6 6 4 8 3 4 3 7 4 4 4 7 5 8\\nG 4 9 6 7 6 7 8 6 2 6 5 11 4 8 7 8\\nG 3 3 4 5 2 7 8 8 7 6 7 8 2 7 6 11\\nC 3 8 4 6 2 6 8 8 7 9 8 14 2 9 4 10\\nC 3 4 4 3 2 4 7 5 7 10 8 13 1 9 3 8\\nG 4 7 5 5 2 7 6 7 9 6 5 10 1 8 6 11\\nG 5 9 4 4 2 11 3 2 3 9 2 6 4 7 3 10\\nG 5 9 7 8 8 8 6 6 4 7 6 9 10 10 9 9\\nC 4 4 5 6 2 6 7 7 11 6 6 13 1 7 4 9\\nG 4 7 4 5 3 6 7 6 7 9 8 9 2 10 4 9\\nC 4 10 5 8 2 5 7 7 10 7 5 13 1 9 4 8\\nG 3 5 4 4 2 6 6 5 5 9 7 11 2 8 4 10\\nG 2 0 2 1 1 8 6 6 5 6 5 9 1 8 5 10\\nC 3 6 4 4 2 6 7 6 7 7 6 12 1 8 4 10\\nG 2 0 2 1 1 8 6 6 5 6 5 9 1 8 5 10\\nG 5 8 6 7 7 7 9 5 2 7 7 8 6 11 7 8\\nC 5 9 6 7 4 5 7 6 9 6 6 10 1 6 5 10\\nG 2 4 3 3 2 6 7 5 5 9 7 10 2 8 4 9\\nG 1 0 2 1 1 8 6 6 5 6 5 9 1 8 5 10\\nG 7 11 9 8 11 8 5 4 3 6 5 10 8 7 9 13\\nC 4 9 5 6 3 6 9 7 8 13 8 7 2 11 3 7\\nG 5 7 5 5 3 6 7 6 6 9 7 10 2 8 4 9\\nG 5 11 6 8 4 6 7 7 7 11 7 11 2 10 4 9\\nG 2 1 2 2 1 8 6 6 6 6 5 10 1 7 5 10\\nC 7 10 8 8 5 4 8 6 7 12 10 12 2 11 3 7\\nC 3 5 5 3 2 4 8 5 7 11 10 12 1 9 2 7\\nC 1 0 1 1 0 6 7 6 8 7 6 14 0 8 4 10\\nG 2 1 3 2 1 7 7 6 5 6 6 10 2 8 4 10\\nG 3 4 4 3 2 6 6 5 5 7 6 9 3 7 4 8\\nC 5 5 6 8 3 5 7 7 11 7 6 12 1 8 4 9\\nC 2 1 3 2 1 6 8 7 7 8 7 13 1 10 4 10\\nC 4 9 5 7 6 5 7 4 5 7 6 9 6 10 5 7\\nG 4 8 4 6 3 7 7 6 6 10 7 11 2 9 4 9\\nG 5 9 4 5 2 7 4 4 2 7 4 5 4 7 5 8\\nG 5 11 7 8 6 7 6 7 8 6 5 8 2 10 8 12\\nC 3 7 5 5 5 5 7 3 4 7 6 10 5 10 3 8\\nG 5 9 7 8 8 7 9 5 2 7 7 8 6 11 7 9\\nC 2 1 3 2 1 6 7 6 10 7 6 14 0 8 4 9\\nG 5 11 7 8 5 6 6 7 7 6 5 10 2 9 4 8\\nG 3 7 4 5 3 6 6 6 5 10 7 13 2 9 4 10\\nC 2 4 3 3 1 4 9 5 7 11 9 12 1 9 2 7\\nC 3 5 4 4 2 3 9 4 7 11 10 12 1 9 2 6\\nC 4 9 6 6 2 7 8 7 10 5 6 13 1 7 4 9\\nC 7 9 8 8 8 5 7 4 5 7 6 11 5 9 8 9\\nG 3 5 4 4 3 6 7 5 5 9 7 10 2 8 4 10\\nC 4 10 5 8 4 6 7 6 8 5 7 12 1 7 4 9\\nG 4 7 5 5 4 6 6 6 5 9 7 12 3 8 4 9\\nG 5 11 6 8 9 7 5 4 4 7 5 11 7 8 9 14\\nG 6 11 6 8 5 5 6 5 5 9 8 11 2 9 4 9\\nC 5 9 7 7 5 7 7 8 6 7 6 13 6 8 5 7\\nG 4 6 6 4 5 7 8 5 4 6 6 8 4 7 7 7\\nC 6 12 5 6 4 8 6 4 3 9 8 11 4 9 7 11\\nG 2 0 2 1 1 8 6 6 6 6 5 9 1 7 5 10\\nC 4 7 5 5 3 5 8 7 7 8 8 14 1 10 4 10\\nC 6 8 7 6 4 5 8 6 7 12 8 10 3 12 3 6\\nC 2 1 3 2 1 6 8 6 7 7 8 12 1 9 4 10\\nG 3 4 4 7 2 6 5 8 8 6 5 10 1 8 6 11\\nG 7 11 8 8 7 5 5 6 6 6 5 11 4 10 4 9\\nG 6 9 5 4 3 8 3 4 3 7 3 5 4 7 4 9\\nC 7 11 8 8 5 4 8 6 7 12 9 11 2 11 3 7\\nG 5 11 7 8 8 7 7 6 2 7 6 11 7 9 10 6\\nC 2 4 3 3 1 6 8 7 8 7 8 13 1 8 4 10\\nG 3 4 5 7 2 8 7 9 7 5 6 10 2 7 5 10\\nC 7 10 7 8 5 3 8 5 7 10 10 14 3 9 4 6\\nC 2 1 3 2 1 6 8 7 7 8 8 13 1 9 4 10\\nC 3 7 4 5 2 5 8 6 7 7 6 12 1 9 4 10\\nG 5 8 6 6 4 6 6 6 5 6 6 10 2 9 4 8\\nG 3 8 4 6 2 7 6 8 7 6 6 9 2 7 6 11\\nC 3 6 4 4 1 5 7 7 10 6 6 13 1 8 4 8\\nG 5 5 7 8 3 7 5 7 10 5 5 9 1 9 7 11\\nC 6 10 7 8 3 4 9 6 8 12 10 11 2 9 3 6\\nC 1 1 2 1 1 6 8 6 6 8 7 12 1 9 3 10\\nG 6 7 8 6 7 7 8 5 3 7 7 8 9 10 9 7\\nG 2 5 3 3 2 7 7 7 6 6 6 10 2 8 4 9\\nC 6 9 6 7 3 4 8 6 7 12 10 12 2 10 2 7\\nG 4 8 6 6 6 7 7 6 3 6 6 9 4 8 7 8\\nC 3 6 4 6 4 4 8 3 5 7 6 11 3 10 7 7\\nG 4 7 5 5 3 6 7 6 7 10 7 11 2 9 4 9\\nC 3 2 4 4 2 6 8 8 8 9 8 12 2 10 4 9\\nC 4 8 5 6 3 4 8 5 6 9 8 14 3 7 4 8\\nC 5 9 6 6 3 5 9 7 8 5 8 14 2 7 5 8\\nC 4 8 5 6 2 5 9 8 8 13 9 6 2 10 2 6\\nG 6 11 7 8 4 7 6 7 7 11 6 13 3 9 5 8\\nC 4 7 5 5 2 5 7 6 7 11 9 13 2 9 4 7\\nG 4 7 5 5 3 6 7 7 7 10 7 9 2 10 4 9\\nC 3 7 4 5 2 7 7 7 10 10 6 13 1 10 4 9\\nC 5 10 6 8 2 6 6 7 11 9 5 14 1 9 4 8\\nG 4 10 5 7 3 7 7 8 7 6 6 8 2 7 6 11\\nG 4 9 5 6 2 7 6 8 8 6 5 10 2 8 5 11\\nG 2 1 2 1 1 8 6 6 6 6 5 9 1 7 5 10\\nG 4 4 6 7 3 8 8 8 8 6 7 8 2 7 6 10\\nG 6 8 8 6 7 7 10 6 5 6 6 8 5 6 7 7\\nC 5 9 6 7 2 6 7 7 12 7 6 15 1 8 4 9\\nG 6 10 7 8 4 6 7 7 8 10 7 10 2 10 5 9\\nC 2 4 3 3 1 4 8 4 7 10 9 13 1 8 2 7\\nG 4 6 5 4 6 8 6 4 2 6 6 9 6 8 6 11\\nC 3 4 4 3 1 4 8 5 8 11 9 12 1 9 3 7\\nG 5 5 6 7 3 7 4 7 9 5 5 9 1 9 7 11\\nC 5 10 6 8 2 6 7 7 10 6 6 15 1 8 4 9\\nC 2 4 3 3 1 6 8 7 7 9 7 12 1 10 4 10\\nC 4 5 5 5 4 6 8 3 5 6 6 11 4 9 7 9\\nC 3 4 4 6 1 5 7 6 9 7 6 14 1 9 4 9\\nC 2 3 3 2 1 5 9 5 7 12 9 10 1 10 2 7\\nC 6 11 8 8 9 5 6 3 5 8 6 12 6 9 3 9\\nG 4 3 5 5 2 8 5 7 9 7 4 11 1 9 5 10\\nG 3 6 4 4 3 6 7 6 5 9 7 10 2 9 4 10\\nG 3 9 4 7 2 7 6 8 7 6 6 10 2 7 5 10\\nC 3 7 4 5 1 6 7 7 9 7 6 13 1 8 4 9\\nG 2 1 4 3 2 7 7 6 6 6 7 9 2 8 4 9\\nG 2 0 2 1 1 8 7 6 5 6 6 9 1 7 5 10\\nC 4 10 5 8 2 5 7 7 10 6 6 13 1 7 4 9\\nG 4 9 6 7 7 7 9 6 3 6 6 10 4 8 7 7\\nG 2 3 3 2 1 6 7 5 5 9 7 10 1 8 4 10\\nG 4 8 6 6 5 7 6 6 4 7 7 9 5 9 7 8\\nG 4 5 5 4 3 6 7 5 5 9 8 9 2 8 5 9\\nC 2 4 3 3 1 6 8 7 7 8 8 13 1 10 4 10\\nG 4 6 6 5 5 8 10 5 2 7 7 9 6 11 7 10\\nC 3 10 5 7 3 4 9 6 6 6 8 14 1 8 4 10\\nG 2 3 2 2 1 6 8 5 4 9 8 9 2 8 4 9\\nC 2 4 3 3 2 6 8 7 7 8 8 13 1 10 4 10\\nC 2 1 3 2 1 6 7 6 10 7 6 14 0 8 4 9\\nG 5 11 5 8 4 5 6 7 6 7 7 11 3 7 5 8\\nC 3 6 5 5 4 6 6 4 5 7 6 11 4 10 7 10\\nC 1 1 2 1 0 6 7 6 9 7 6 14 0 8 4 10\\nG 4 5 6 4 5 7 8 5 3 7 7 8 7 11 7 8\\nC 7 10 8 8 4 6 8 7 8 13 8 9 2 11 3 7\\nG 5 9 4 4 3 8 6 4 2 9 6 8 3 9 8 8\\nG 3 9 5 6 2 7 6 8 7 6 6 8 2 7 6 11\\nG 3 7 4 5 2 7 6 8 7 6 6 8 2 8 6 11\\nG 4 7 6 5 3 6 6 6 7 6 6 10 3 7 4 8\\nG 2 4 3 3 2 6 7 5 5 9 7 10 2 9 4 9\\nC 1 0 2 1 0 6 7 6 8 7 6 14 0 8 4 10\\nG 2 3 3 2 2 6 7 5 5 9 7 10 2 9 4 9\\nG 2 5 3 4 2 6 7 6 6 10 7 11 2 9 4 9\\nC 6 9 7 7 7 6 7 3 4 6 7 10 7 8 6 7\\nG 5 9 5 7 4 5 7 6 6 10 8 9 2 9 5 9\\nC 5 11 6 8 4 3 8 6 6 12 10 13 2 9 3 7\\nC 5 10 6 8 7 5 6 3 4 7 6 11 6 9 4 7\\nG 2 3 3 2 1 7 7 6 6 7 5 10 2 9 4 9\\nG 4 6 4 4 3 6 7 5 6 9 8 10 2 9 4 9\\nG 3 6 4 4 2 6 6 5 5 6 6 9 2 8 4 8\\nC 2 3 3 2 1 5 8 5 6 12 9 10 1 10 2 7\\nG 3 4 4 3 2 6 6 6 6 9 7 11 2 9 4 10\\nG 1 3 2 1 1 7 7 5 5 6 6 9 2 8 3 9\\nC 2 4 3 3 1 6 8 7 7 8 8 13 1 10 4 10\\nG 2 1 4 3 2 6 7 6 6 6 6 10 2 8 3 9\\nG 4 7 5 5 5 8 7 6 2 7 6 11 4 8 7 9\\nG 2 1 2 2 1 8 6 6 6 6 5 10 1 7 5 10\\nG 4 5 5 4 3 6 7 5 6 9 7 10 2 8 4 9\\nC 4 10 6 8 4 4 9 5 6 5 7 14 4 8 5 7\\nC 3 7 4 5 2 3 7 5 6 9 8 14 1 8 3 9\\nG 4 10 5 8 3 7 5 8 9 8 4 13 1 9 5 10\\nC 9 14 7 8 5 7 6 4 4 9 8 11 4 9 9 11\\nC 3 6 4 4 1 5 6 6 9 7 5 11 1 9 4 8\\nC 4 8 4 6 3 4 8 6 6 12 10 12 2 9 3 8\\nC 1 0 2 0 0 7 7 6 8 7 6 13 0 8 4 10\\nC 4 7 5 5 2 5 9 7 8 8 8 14 1 8 4 9\\nG 6 10 8 7 6 6 6 6 6 6 6 10 4 8 5 9\\nG 3 9 4 7 2 7 6 8 8 6 5 10 2 8 6 11\\nC 8 15 5 8 3 7 7 8 8 12 7 10 2 9 5 9\\nG 3 2 4 4 2 6 6 5 6 6 6 9 2 9 3 8\\nG 2 4 3 3 2 6 7 5 5 9 7 10 2 8 4 9\\nC 6 11 7 8 4 2 8 5 9 10 10 14 1 7 3 7\\nC 4 9 5 6 3 6 7 6 8 6 5 12 1 8 4 9\\nG 1 0 1 0 0 8 6 5 4 6 6 9 1 8 5 10\\nC 3 7 4 5 2 5 8 7 7 9 8 13 1 10 4 10\\nC 8 12 6 6 5 7 7 4 4 9 8 10 4 9 8 10\\nG 5 11 6 8 5 5 7 6 5 8 7 12 4 7 5 8\\nC 4 8 5 6 3 5 8 7 8 9 8 14 1 9 4 9\\nC 7 12 5 7 4 7 7 4 3 9 9 11 4 10 9 11\\nG 5 6 5 4 3 6 7 6 5 10 8 10 2 9 4 9\\nC 1 0 1 1 0 6 7 6 7 7 6 13 0 8 4 10\\nC 5 9 6 7 7 5 6 3 4 7 6 11 6 9 3 8\\nG 2 3 3 1 1 7 7 5 5 9 6 10 2 9 4 10\\nG 3 7 4 5 3 7 6 7 7 7 4 11 1 8 5 11\\nC 7 11 7 8 4 5 8 6 8 12 8 13 3 10 4 6\\nC 5 10 6 8 4 4 9 6 7 7 8 15 1 8 4 10\\nC 4 7 5 5 3 6 7 6 9 8 4 10 1 10 4 10\\nC 2 1 2 2 1 6 8 7 6 9 7 11 2 10 4 10\\nC 5 10 4 5 3 8 5 5 3 9 9 11 4 9 7 11\\nG 10 15 9 8 5 8 4 5 4 9 4 5 4 7 5 8\\nC 3 2 4 4 2 6 8 7 8 9 8 13 1 9 4 10\\nC 5 11 6 8 2 5 7 7 11 7 6 13 1 9 4 8\\nC 5 11 6 8 3 4 7 7 11 7 7 12 1 7 4 8\\nC 2 1 2 1 0 6 7 6 9 7 6 14 0 8 4 10\\nC 7 10 8 8 4 2 9 5 9 11 11 13 1 7 3 6\\nG 2 1 2 1 1 8 6 6 5 6 5 9 1 7 5 10\\nC 3 6 4 4 1 6 7 7 10 8 6 13 1 9 4 9\\nC 7 10 8 8 4 4 8 6 9 12 9 13 2 9 3 7\\nC 6 9 6 6 3 5 7 6 8 11 8 14 2 9 4 6\\nG 6 6 8 6 7 7 10 5 3 7 7 8 6 11 7 8\\nC 4 7 4 5 3 4 8 5 6 9 8 14 2 7 3 8\\nG 2 4 3 2 2 6 7 5 5 9 7 10 2 8 4 10\\nG 3 8 5 6 4 6 6 6 6 7 5 11 2 10 4 9\\nG 3 5 4 3 2 6 7 5 5 9 7 10 2 8 4 9\\nC 2 1 2 2 1 7 8 7 6 8 7 11 2 9 3 10\\nG 8 9 10 8 11 7 8 6 3 7 7 9 9 10 9 9\\nC 3 8 4 6 2 6 8 7 10 6 7 12 1 7 4 9\\nG 1 0 1 1 0 7 7 6 5 6 5 9 1 7 5 10\\nC 6 11 8 8 6 7 6 9 6 8 6 11 4 9 4 8\\nG 2 1 4 2 2 7 7 6 6 6 6 10 2 9 4 9\\nG 3 7 5 5 5 9 7 6 2 6 7 9 5 8 3 8\\nC 5 10 6 8 3 3 8 5 8 11 11 13 1 8 3 7\\nG 3 6 4 4 4 7 8 5 3 6 6 10 3 8 6 8\\nG 4 7 5 5 3 5 8 6 6 9 8 9 2 7 4 9\\nC 6 13 5 8 4 6 8 5 4 9 8 10 4 9 10 8\\nC 4 9 6 8 6 6 7 4 4 7 6 10 5 9 9 11\\nG 7 10 5 5 4 7 6 3 2 8 6 8 4 9 9 8\\nC 9 12 6 7 3 8 8 6 8 12 6 8 2 9 5 9\\nC 3 2 4 3 2 6 8 8 7 8 7 12 2 9 4 10\\nC 6 9 6 7 3 3 8 5 7 12 10 12 2 9 2 7\\nG 4 8 5 6 2 7 6 7 8 6 6 9 1 8 6 11\\nC 4 8 5 6 3 5 7 6 8 7 6 12 1 8 4 9\\nG 2 4 4 3 2 7 6 6 6 6 6 10 2 9 4 9\\nC 2 4 3 3 1 4 8 4 6 11 9 11 1 9 3 7\\nG 3 9 4 7 2 7 7 8 7 5 6 9 2 7 6 11\\nC 5 7 5 5 2 5 9 6 8 12 9 10 2 10 3 7\\nG 5 11 6 8 8 8 7 5 2 6 6 10 7 8 6 12\\nG 9 14 7 8 5 9 5 5 3 9 6 8 4 9 8 8\\nG 3 7 4 5 2 7 6 7 8 6 5 11 1 8 6 11\\nG 4 5 5 8 3 7 6 8 8 6 6 10 1 8 6 11\\nC 5 8 7 7 6 5 7 3 4 7 6 11 4 10 7 10\\nC 4 8 5 6 2 5 9 7 8 12 9 11 1 10 3 7\\nG 3 4 4 3 2 7 6 6 5 6 6 9 2 9 4 9\\nC 7 10 7 8 5 5 7 5 7 12 8 13 4 9 5 6\\nC 3 2 4 4 2 6 8 7 7 8 7 13 1 9 4 10\\nC 3 3 4 5 1 5 7 6 9 6 6 12 1 8 4 8\\nC 4 7 5 5 2 6 8 7 11 6 6 13 1 7 4 8\\nG 5 10 6 7 8 8 8 5 2 6 6 8 7 8 7 13\\nC 6 11 6 8 4 4 8 5 6 12 10 11 2 10 3 7\\nG 6 10 8 7 9 8 8 5 3 6 6 7 9 8 9 14\\nC 6 11 4 6 2 6 8 7 6 11 7 7 2 9 5 8\\nC 5 8 6 6 3 4 8 5 7 11 10 12 2 9 3 7\\nC 4 7 5 5 3 5 8 7 7 8 8 14 2 9 4 10\\nG 6 10 8 8 9 7 7 6 2 7 6 11 7 9 10 7\\nC 2 1 2 1 0 6 7 6 9 7 6 14 0 8 4 10\\nG 3 9 5 6 4 6 6 6 6 7 5 12 2 9 4 9\\nG 4 8 6 6 6 8 5 4 3 7 5 11 6 8 4 11\\nC 4 7 5 5 4 7 7 8 5 6 7 13 4 7 4 8\\nG 9 14 8 8 5 7 4 6 3 8 5 4 4 8 6 6\\nC 4 9 4 4 3 7 7 4 3 9 8 10 3 9 8 10\\nG 6 9 6 6 4 6 7 6 7 10 8 9 3 8 5 9\\nG 1 3 2 1 1 6 7 5 4 9 7 10 2 8 4 9\\nC 4 8 4 6 3 6 8 6 7 12 8 12 2 10 3 8\\nG 2 4 2 2 1 6 7 5 5 9 7 10 2 8 4 9\\nG 1 0 2 0 1 8 7 5 5 6 6 9 1 8 5 10\\nC 2 6 3 4 2 6 8 8 8 9 8 13 1 9 4 10\\nG 4 7 5 5 3 6 7 6 7 10 7 11 2 9 4 9\\nG 6 10 8 8 8 6 6 6 3 6 6 10 5 8 8 7\\nG 4 6 4 4 2 6 7 6 6 10 8 10 2 9 4 9\\nG 7 15 6 8 4 9 3 3 3 7 3 5 4 7 4 9\\nG 4 9 5 6 3 6 7 7 6 10 7 11 2 9 4 9\\nG 4 7 6 5 3 6 7 5 5 6 6 8 3 8 4 8\\nG 7 10 6 6 3 7 6 6 5 10 5 7 4 7 5 7\\nG 2 1 3 2 1 6 6 5 5 6 6 9 2 9 4 8\\nG 6 11 5 6 3 11 4 3 4 10 2 7 4 7 4 9\\nG 2 3 2 2 1 7 6 6 5 6 6 9 2 9 4 9\\nG 2 5 3 4 2 6 7 5 5 9 7 10 2 9 4 9\\nG 1 3 2 1 1 7 7 5 4 9 7 9 2 8 3 10\\nG 3 7 4 5 3 6 6 5 4 6 6 9 2 9 4 8\\nG 3 4 4 2 2 6 7 5 6 6 6 9 2 8 3 8\\nC 1 0 2 0 0 7 7 5 7 7 6 13 0 8 4 10\\nC 3 6 4 4 2 4 9 6 7 12 9 10 2 10 3 7\\nC 5 9 6 6 4 6 7 6 9 5 6 12 1 7 4 9\\nC 4 10 5 7 3 4 8 6 6 12 10 13 1 10 3 8\\nC 3 8 4 6 3 5 8 8 7 10 8 13 2 10 4 9\\nG 3 6 4 4 3 7 6 6 6 6 6 10 2 9 4 8\\nG 3 6 4 4 3 5 7 6 5 9 7 11 2 8 4 10\\nG 3 7 5 5 5 7 9 6 3 6 6 10 3 7 7 8\\nC 5 5 6 7 2 5 7 6 11 7 6 14 1 8 4 9\\nG 7 14 5 8 4 8 6 4 3 9 5 9 4 9 8 8\\nC 6 11 8 9 6 7 7 8 6 6 6 13 6 8 5 7\\nG 5 8 6 6 4 6 7 5 4 9 8 9 2 7 5 9\\nG 4 8 5 6 4 8 7 8 6 6 7 9 2 7 5 10\\nG 3 8 5 6 2 7 5 7 8 6 5 10 1 8 6 11\\nC 2 5 3 3 1 4 8 5 6 11 9 12 1 9 2 7\\nG 6 11 7 8 5 6 7 7 7 10 8 10 2 8 5 9\\nG 5 8 5 6 3 6 7 7 6 10 7 11 2 9 4 9\\nG 4 2 5 4 3 6 6 6 6 6 6 10 2 9 4 8\\nG 4 6 5 4 3 7 7 8 7 6 6 11 2 9 4 9\\nG 2 5 3 3 2 6 7 5 5 9 7 10 2 8 4 9\\nG 6 10 8 8 8 7 9 6 3 6 5 10 5 7 8 7\\nC 4 9 6 7 6 5 7 4 4 7 6 9 6 9 5 7\\nC 4 9 6 7 4 7 8 8 6 6 6 9 4 7 4 8\\nG 3 4 4 3 2 6 7 5 5 9 8 9 2 9 4 9\\nC 4 8 6 6 6 7 7 4 4 6 7 10 7 9 5 7\\nC 6 10 8 8 5 8 7 8 7 7 6 9 4 8 4 9\\nC 3 7 4 5 1 6 8 6 9 5 6 14 1 7 4 9\\nC 3 3 4 2 1 4 8 4 7 10 9 12 1 9 2 7\\nG 2 5 3 3 2 6 7 5 5 10 7 10 2 9 4 9\\nC 4 9 3 4 2 6 8 4 3 9 8 10 3 9 8 9\\nG 4 9 6 6 2 7 6 7 9 7 5 11 1 8 5 10\\nC 3 2 4 3 2 6 8 7 7 9 8 12 2 10 3 9\\nC 1 0 2 1 0 6 7 6 8 7 6 14 0 8 4 10\\nC 3 7 4 5 3 6 8 7 7 10 8 13 2 10 4 10\\nG 6 10 5 5 3 8 7 5 6 10 4 7 4 7 5 8\\nG 3 6 4 4 3 6 7 5 5 10 8 10 2 9 4 9\\nC 3 8 4 6 2 6 8 8 7 10 8 13 2 10 4 10\\nC 3 4 5 7 2 5 7 7 10 7 6 12 1 9 4 9\\nC 3 9 4 7 2 5 7 7 10 7 6 13 1 9 4 9\\nG 6 11 8 8 5 5 7 5 5 5 7 7 3 6 4 7\\nG 2 1 2 1 1 8 6 6 6 6 5 9 1 7 5 10\\nC 4 9 5 6 2 5 7 7 10 6 6 13 1 7 4 9\\nG 3 5 4 4 2 6 7 5 6 9 7 11 2 9 4 10\\nG 1 3 2 2 1 7 6 5 4 7 6 10 2 9 3 9\\nG 7 10 9 8 9 7 5 6 3 7 6 10 5 8 7 8\\nC 4 10 6 8 7 6 6 4 3 8 7 11 6 9 3 8\\nC 5 7 5 5 3 5 8 6 8 12 9 13 1 9 3 7\\nC 3 9 4 7 2 5 7 7 9 6 6 13 1 7 4 8\\nC 5 10 6 7 4 5 7 6 9 7 6 13 1 8 4 9\\nG 3 3 4 5 2 7 7 8 7 6 5 11 2 8 5 10\\nC 2 3 2 2 1 5 8 5 6 11 9 11 1 9 3 8\\nG 2 4 3 3 2 6 7 5 5 9 7 10 2 9 4 9\\nG 4 11 5 9 3 8 8 9 7 5 7 9 2 7 5 11\\nG 3 4 4 3 2 7 6 6 6 6 6 10 2 9 4 9\\nG 4 8 5 6 3 6 6 7 7 10 7 11 2 11 4 9\\nG 5 9 7 7 5 6 7 7 5 5 6 11 4 8 4 8\\nC 5 6 5 4 2 5 9 6 8 12 9 10 2 9 3 7\\nG 1 3 2 2 1 7 7 4 4 9 7 10 2 8 3 10\\nC 4 6 6 4 3 8 6 7 7 7 6 8 4 10 4 8\\nG 2 0 2 1 1 8 7 6 5 6 6 9 1 7 5 10\\nC 5 9 6 8 7 6 7 5 5 6 7 12 6 9 8 10\\nG 6 6 8 6 7 7 9 5 3 7 7 8 8 11 8 7\\nG 6 10 8 8 5 6 6 7 8 6 5 10 2 9 4 8\\nC 5 11 6 8 5 7 8 8 6 5 6 12 4 7 4 7\\nG 1 0 2 0 1 8 7 5 5 6 6 9 1 7 5 10\\nG 4 7 5 5 3 5 7 5 5 9 8 10 2 8 4 9\\nC 6 8 6 6 3 3 8 4 7 10 10 13 1 7 3 7\\nG 3 7 4 5 3 7 7 7 6 7 5 11 1 8 4 10\\nC 1 3 2 2 1 6 8 7 7 8 7 13 1 9 4 10\\nG 1 0 2 1 0 8 6 6 5 6 5 9 1 7 5 10\\nG 4 9 6 7 6 7 7 6 2 7 6 11 4 8 8 8\\nC 5 10 5 8 3 4 10 7 8 12 10 9 2 9 2 6\\nG 7 8 9 7 9 7 8 5 3 7 7 8 10 10 10 7\\nG 3 8 4 6 3 8 8 7 5 6 6 9 2 7 5 11\\nG 6 13 6 7 3 7 6 5 4 9 5 5 4 8 5 7\\nC 5 9 6 7 4 5 7 6 9 7 6 13 1 8 4 9\\nC 6 10 7 7 4 5 7 6 8 11 9 14 2 9 4 5\\nG 7 9 6 5 3 10 5 4 5 11 3 7 4 7 5 9\\nC 3 8 4 6 3 5 7 6 7 7 5 11 1 8 4 10\\nC 4 6 5 6 5 7 8 5 4 6 7 11 6 9 9 11\\nG 6 8 8 7 9 7 6 6 4 7 7 9 10 8 9 9\\nC 2 3 2 1 1 4 10 5 6 12 9 9 1 9 2 7\\nC 2 5 3 4 2 6 8 7 7 9 8 13 1 9 4 10\\nG 9 13 8 7 4 11 3 3 4 10 2 6 4 7 4 11\\nC 4 10 5 8 3 5 8 7 8 7 8 15 1 8 4 9\\nG 5 9 7 7 5 5 6 7 7 7 5 13 4 9 5 8\\nG 3 3 4 5 2 8 7 8 7 6 6 10 2 7 5 11\\nG 5 8 6 6 5 7 7 7 5 4 7 9 3 6 5 8\\nC 5 11 7 8 8 6 7 4 4 6 7 10 7 8 7 7\\nC 4 4 6 7 2 5 7 7 10 7 6 12 1 9 4 9\\nG 3 6 4 4 2 6 7 6 5 10 8 11 2 9 4 10\\nC 3 7 4 5 2 5 8 7 8 13 9 10 2 10 3 7\\nG 3 7 4 5 3 7 6 6 6 6 5 9 2 9 6 11\\nC 2 2 3 3 2 6 8 7 7 8 7 13 1 9 4 10\\nC 5 4 6 7 2 7 6 7 11 9 5 13 1 9 4 8\\nG 5 10 5 7 4 6 7 7 6 10 8 11 2 9 4 9\\nG 6 9 5 4 3 7 8 6 6 10 5 6 4 7 5 7\\nC 4 9 4 4 3 7 8 4 3 9 8 10 3 9 8 11\\nC 6 8 6 6 3 4 9 6 9 13 10 10 1 9 3 7\\nG 7 13 6 8 5 7 6 4 3 8 6 8 4 9 9 7\\nG 5 12 4 6 4 7 6 4 2 8 6 8 4 9 9 7\\nC 2 1 3 2 1 6 8 7 7 9 7 12 1 10 3 9\\nG 2 6 3 4 2 7 6 6 6 7 3 10 1 8 4 10\\nG 5 9 7 7 4 6 7 7 7 6 6 12 3 9 5 7\\nG 5 8 6 6 4 6 6 7 6 6 6 11 2 8 4 9\\nG 5 9 6 6 4 7 6 7 7 7 5 12 2 8 5 10\\nC 5 5 6 7 2 5 7 7 11 7 6 12 1 8 4 9\\nC 7 9 7 7 3 3 8 4 9 10 10 13 1 7 3 7\\nG 4 8 5 6 6 8 7 4 2 6 6 8 7 8 7 11\\nG 2 1 4 2 2 7 7 5 5 7 6 9 3 7 4 9\\nG 4 11 6 8 6 7 6 7 5 4 7 9 3 6 5 9\\nC 3 10 4 8 3 5 8 7 8 7 8 14 1 8 4 10\\nG 4 5 5 4 3 6 6 6 6 6 6 10 2 9 4 8\\nC 5 10 3 5 2 5 9 6 6 11 8 8 2 9 5 8\\nC 3 6 4 4 2 5 9 6 7 12 9 11 2 10 3 7\\nC 5 11 6 9 3 4 9 7 8 13 11 12 2 9 3 7\\nG 3 4 4 6 2 7 6 8 7 6 6 9 2 7 5 11\\nG 6 5 7 8 3 7 5 8 10 7 5 12 1 8 6 11\\nG 4 7 6 5 5 7 8 5 3 6 6 11 4 8 7 8\\nC 4 6 5 4 2 4 9 5 7 11 10 12 1 9 3 7\\nC 4 7 6 5 4 7 8 8 6 5 7 13 4 7 4 8\\nC 3 6 4 4 4 8 6 5 2 7 7 10 6 9 4 7\\nG 3 8 5 6 3 7 6 7 6 6 5 10 1 8 5 11\\nG 5 9 4 4 3 7 8 3 3 8 6 6 3 9 8 7\\nG 2 1 3 2 1 8 6 6 6 6 5 9 1 7 6 10\\nC 4 5 5 5 5 5 8 3 4 7 6 11 4 10 7 9\\nC 1 0 1 1 0 7 7 5 7 7 6 13 0 8 4 10\\nC 5 10 6 8 2 6 7 7 11 7 6 14 1 8 4 9\\nC 6 8 6 6 3 5 8 6 8 13 9 9 2 11 2 7\\nC 4 7 5 5 2 5 8 6 8 12 9 11 2 10 3 7\\nC 3 4 4 3 2 4 8 4 7 10 10 13 1 9 2 7\\nC 1 0 1 1 0 7 7 5 7 7 6 14 0 8 4 10\\nG 1 3 2 1 1 7 7 5 6 7 5 10 1 9 3 9\\nG 4 8 6 6 4 7 7 7 6 6 6 9 2 8 4 8\\nC 3 7 4 5 2 5 8 6 7 6 8 13 1 8 4 10\\nG 3 4 4 6 2 7 7 8 7 6 6 9 2 7 6 10\\nC 6 10 6 8 4 5 8 6 8 12 9 13 2 9 4 7\\nG 6 9 6 7 5 5 6 6 5 9 8 11 2 9 4 10\\nC 4 9 5 7 6 5 6 3 4 7 6 9 6 9 6 7\\nG 3 4 4 3 2 7 6 6 6 6 6 10 2 9 4 9\\nG 5 4 6 6 3 8 8 8 8 6 7 8 2 7 6 11\\nG 3 8 4 6 4 8 7 7 5 6 6 8 2 8 5 11\\nC 3 3 4 4 1 5 8 6 9 6 7 11 1 7 4 9\\nG 4 9 5 6 4 6 7 6 5 9 7 11 2 9 4 10\\nG 3 9 5 6 4 7 6 7 5 6 6 8 2 7 5 11\\nC 10 15 6 8 3 7 8 6 7 12 6 7 2 9 5 8\\nG 7 11 8 9 5 7 6 7 7 12 6 12 3 11 5 8\\nC 5 9 6 7 4 4 8 7 8 7 8 14 2 8 4 10\\nG 5 8 6 6 6 7 7 6 2 6 6 10 4 8 7 7\\nC 5 10 6 7 3 5 9 7 8 6 8 14 1 7 4 9\\nC 3 2 4 4 2 6 8 8 8 9 8 12 2 10 4 10\\nC 3 8 4 6 2 5 7 6 8 8 6 12 1 9 4 9\\nG 3 6 4 4 2 6 8 5 5 9 7 10 2 8 4 9\\nG 6 10 6 8 5 7 6 6 5 10 7 13 4 8 6 7\\nC 7 10 7 7 5 4 8 5 7 12 9 12 2 10 4 6\\nG 4 8 6 6 4 6 6 6 6 7 5 11 3 10 4 9\\nG 3 9 5 6 4 6 6 6 6 6 6 9 2 9 4 8\\nG 3 8 4 6 3 8 8 7 5 6 7 8 2 7 5 11\\nC 4 9 5 6 3 4 8 5 6 12 10 12 2 9 2 7\\nG 2 1 2 2 1 7 7 6 5 6 6 9 2 9 4 9\\nC 4 10 5 7 2 5 7 7 10 7 6 14 1 8 4 9\\nG 5 7 6 5 3 8 6 6 7 11 6 12 2 10 4 8\\nC 4 8 5 6 2 6 7 7 10 8 6 13 1 9 4 8\\nG 2 3 3 1 1 7 7 5 5 9 7 9 2 8 4 10\\nG 4 7 6 5 4 6 6 6 5 6 6 11 2 9 4 9\\nC 1 0 1 0 0 7 7 5 7 7 6 14 0 8 4 10\\nC 9 12 7 7 5 7 9 4 5 9 8 9 4 9 8 11\\nC 5 8 6 6 6 5 6 3 5 8 6 12 6 9 4 9\\nC 7 10 8 8 5 3 7 5 7 11 10 14 2 9 3 7\\nC 2 0 2 1 0 6 7 6 9 7 6 14 0 8 4 10\\nC 2 5 3 4 2 6 8 7 7 9 8 13 1 9 4 10\\nG 5 9 4 4 3 9 3 5 2 9 7 10 4 9 6 8\\nG 4 4 5 6 2 8 5 7 9 8 4 12 1 9 5 10\\nG 3 4 4 3 2 7 6 5 5 9 7 10 2 9 4 9\\nC 6 10 7 8 4 4 8 6 7 12 10 12 2 10 3 7\\nC 5 9 6 6 3 4 8 6 8 12 10 12 2 9 3 7\\nC 5 7 5 5 3 3 8 5 7 11 10 13 2 9 3 7\\nC 2 3 3 2 1 6 8 7 7 8 7 12 1 9 4 10\\nG 6 11 6 6 3 7 7 6 5 9 6 6 4 7 5 6\\nC 3 4 4 3 1 4 8 5 7 11 9 12 1 9 2 7\\nC 3 4 4 3 2 6 8 8 8 8 7 12 2 9 4 10\\nG 4 7 5 5 3 7 6 7 7 11 6 11 2 10 4 9\\nG 7 11 7 8 6 6 6 6 6 10 7 12 2 9 4 10\\nG 5 9 4 4 3 7 8 4 3 8 6 7 3 10 9 7\\nG 4 5 5 4 3 6 6 6 7 6 6 11 2 9 4 9\\nG 2 0 2 1 1 8 6 6 5 6 5 9 2 8 5 10\\nG 4 8 5 6 3 7 6 7 7 8 5 12 3 10 5 8\\nG 2 2 4 4 2 7 6 6 5 6 6 9 2 9 4 9\\nG 6 11 7 8 6 6 6 6 5 5 6 10 2 9 4 8\\nC 2 4 3 3 1 4 8 4 6 11 9 12 1 9 2 8\\nG 3 5 4 4 2 6 6 5 5 9 7 10 2 8 4 10\\nC 3 7 4 5 2 3 8 5 8 9 9 13 1 8 3 7\\nC 4 8 5 6 3 5 8 7 8 8 8 14 2 9 4 9\\nC 6 11 6 8 4 5 8 7 8 12 9 12 2 10 4 6\\nC 6 11 7 8 3 7 8 7 11 4 7 14 1 7 4 8\\nC 3 5 4 5 4 5 7 3 4 7 6 11 4 9 7 9\\nG 7 12 6 7 3 10 4 4 4 10 3 6 4 7 5 9\\nG 6 11 8 8 9 8 4 5 4 7 5 11 7 9 6 13\\nG 2 2 3 3 2 7 6 6 6 7 6 10 2 9 4 9\\nG 3 7 4 5 3 6 6 6 5 9 7 13 2 9 4 10\\nC 4 7 5 5 2 6 7 6 10 6 6 12 1 7 4 8\\nC 8 12 5 6 2 7 8 7 7 11 7 9 2 9 5 9\\nC 5 10 6 8 5 5 7 8 7 11 8 13 3 12 5 8\\nG 2 4 3 2 2 6 7 5 6 9 7 10 1 8 4 9\\nC 5 7 6 5 6 5 6 4 4 7 7 9 5 10 4 8\\nC 5 9 5 7 4 4 8 5 6 11 9 14 2 9 3 7\\nG 3 3 4 4 2 7 8 7 6 6 6 7 2 7 6 11\\nC 4 7 5 5 2 6 8 6 10 6 7 12 1 7 4 8\\nG 4 5 5 4 3 7 6 6 6 6 6 10 2 9 4 8\\nC 6 10 5 5 3 7 8 4 3 9 8 9 4 9 9 11\\nC 2 3 3 4 1 5 8 6 8 7 7 12 1 7 4 9\\nC 5 9 5 7 3 3 8 5 8 11 10 13 1 9 3 7\\nC 5 10 6 8 2 6 7 7 11 6 6 13 1 8 4 8\\nC 4 9 3 4 2 7 10 4 4 8 8 8 3 9 8 11\\nC 7 12 5 6 4 7 6 4 3 9 8 11 4 9 8 11\\nC 6 10 6 8 4 4 9 7 7 13 10 8 2 10 2 7\\nG 6 9 6 4 3 7 3 5 2 6 5 4 4 8 5 7\\nG 4 6 5 4 5 9 9 5 2 6 7 8 6 9 4 9\\nC 4 9 6 7 6 6 6 3 4 8 7 11 6 9 3 9\\nC 5 11 7 8 8 7 6 4 4 8 7 11 6 9 3 8\\nG 4 8 5 6 2 7 6 7 9 6 6 9 2 8 6 11\\nC 3 6 5 4 1 6 6 6 10 7 5 13 1 9 4 9\\nG 4 9 5 7 4 5 7 6 5 9 8 10 2 8 4 9\\nG 3 7 5 5 3 7 6 6 6 6 6 10 2 9 4 8\\nC 5 6 6 5 5 5 6 3 6 7 7 11 5 11 7 8\\nC 6 10 6 8 4 4 7 6 6 13 10 12 2 11 3 7\\nC 6 12 4 6 2 6 9 6 8 11 8 10 2 8 5 9\\nG 6 9 7 7 8 8 6 4 2 6 6 10 7 7 7 13\\nC 6 11 6 8 4 2 9 5 7 11 11 13 1 8 2 7\\nG 4 3 5 4 3 6 6 5 6 6 6 8 2 8 4 8\\nG 4 8 6 6 6 7 9 6 4 6 6 8 5 7 7 7\\nG 4 6 5 4 3 6 8 6 6 10 8 9 2 8 4 9\\nC 7 13 5 7 2 6 9 6 8 11 8 9 2 8 5 9\\nG 3 4 4 3 2 6 7 5 5 9 7 10 2 9 4 9\\nG 5 10 5 7 4 6 6 6 5 10 7 13 2 9 5 9\\nC 6 9 7 7 3 3 9 5 8 10 10 12 1 8 3 7\\nG 4 9 5 7 4 8 7 7 6 6 6 7 2 8 6 11\\nG 8 15 7 8 6 8 5 4 3 8 6 8 4 9 8 8\\nC 4 8 5 6 3 6 7 6 7 12 8 11 2 10 4 7\\nC 6 8 7 7 7 6 7 5 5 6 6 11 7 10 9 8\\nC 4 9 5 7 3 5 8 6 8 12 9 13 2 10 3 7\\nG 5 10 6 7 3 7 5 8 9 6 5 10 1 8 6 11\\nC 8 11 5 6 2 7 8 6 7 11 6 9 2 9 5 9\\nC 5 12 4 7 4 9 6 4 2 9 8 11 4 9 7 13\\nG 3 4 4 3 2 7 6 7 5 6 6 10 3 8 4 9\\nG 4 7 5 5 3 6 7 7 6 8 7 11 2 7 4 10\\nC 7 11 7 8 4 5 7 6 8 12 9 14 2 10 4 7\\nG 4 9 5 6 3 6 7 7 6 9 7 12 2 8 4 10\\nG 3 4 4 3 2 6 7 5 5 9 7 10 2 8 4 9\\nC 4 6 5 4 5 7 6 4 3 7 7 11 5 9 3 9\\nC 4 9 5 6 3 4 8 6 6 11 10 12 2 10 3 7\\nC 4 8 4 6 2 4 8 6 7 11 10 12 2 9 3 7\\nG 3 4 4 3 2 6 7 5 5 9 7 10 2 9 4 10\\nG 5 11 6 8 6 8 8 8 6 5 7 9 3 5 7 11\\nC 3 7 4 5 2 6 8 9 8 9 7 10 2 11 4 9\\nG 4 7 5 5 2 8 6 7 7 6 6 9 2 8 6 11\\nG 3 7 5 5 5 8 5 4 3 7 6 10 6 8 4 10\\nG 3 4 4 3 2 6 7 5 4 9 7 9 2 8 4 9\\nG 4 9 5 7 2 7 6 8 9 7 5 11 1 8 5 10\\nG 5 9 6 7 8 8 8 5 2 6 6 9 7 9 6 13\\nC 4 11 6 8 2 6 6 7 10 8 6 14 1 9 4 9\\nG 4 9 4 4 3 8 6 4 2 9 6 8 3 9 7 7\\nG 7 12 6 6 4 7 6 4 3 9 6 8 4 9 9 8\\nG 5 11 5 8 5 5 7 5 4 9 9 9 2 8 5 9\\nC 0 0 1 0 0 6 7 5 7 7 6 14 0 8 3 10\\nG 5 8 6 6 3 7 7 7 8 10 6 11 2 10 4 9\\nC 3 7 4 5 2 5 8 7 7 8 8 14 1 9 4 10\\nG 4 2 5 4 3 7 6 6 6 6 6 9 2 8 4 8\\nG 4 8 5 6 2 8 6 8 8 6 6 9 2 7 6 10\\nC 4 9 6 6 7 7 7 4 3 6 7 10 8 10 6 6\\nC 2 4 3 3 1 6 8 7 7 8 8 13 1 9 4 10\\nC 5 9 6 8 7 5 6 4 5 7 6 11 6 10 9 10\\nC 2 3 2 2 1 6 8 6 7 8 7 12 1 9 3 10\\nC 4 7 5 5 5 5 7 4 4 7 6 10 6 9 5 9\\nC 4 7 5 5 5 6 7 4 4 7 7 10 6 9 3 8\\nG 1 0 2 0 0 8 6 5 5 6 6 9 1 7 5 10\\nG 4 6 4 4 3 6 7 5 5 9 8 11 2 8 4 10\\nC 8 14 6 8 3 6 9 6 9 11 8 10 2 8 5 8\\nC 4 6 5 5 4 6 7 4 4 7 6 11 4 9 8 10\\nG 4 7 5 5 5 9 5 5 2 7 6 10 5 10 3 9\\nG 4 10 5 8 5 5 6 6 4 8 7 12 4 8 6 7\\nC 5 7 5 5 3 6 7 6 8 12 8 12 2 10 4 7\\nG 3 6 3 4 2 7 7 6 6 10 7 11 2 9 4 10\\nC 3 7 4 5 2 5 8 7 8 7 8 14 1 8 4 10\\nC 4 9 6 7 2 6 6 7 11 9 5 13 1 10 4 9\\nC 6 14 5 8 4 7 8 4 3 9 8 10 4 9 9 11\\nG 6 8 8 7 8 8 6 6 4 7 6 10 10 10 8 9\\nG 5 11 7 8 8 7 6 7 3 7 6 10 5 8 8 8\\nG 2 1 3 2 2 7 7 5 5 7 6 10 3 7 4 9\\nC 4 4 5 6 2 6 6 7 10 9 6 14 1 9 4 8\\nC 5 8 7 6 4 7 8 8 6 4 7 13 5 8 4 8\\nC 3 4 5 7 2 5 8 7 10 6 7 12 1 7 4 8\\nG 3 7 5 5 6 7 6 4 3 6 5 10 6 8 6 10\\nC 2 1 2 1 1 6 8 6 7 8 8 12 1 9 3 10\\nC 2 4 3 3 1 5 9 5 6 12 9 10 1 10 2 7\\nG 5 9 6 7 3 6 7 7 7 10 8 10 2 9 4 9\\nC 8 11 8 8 4 3 9 6 8 12 11 11 1 8 3 6\\nC 4 7 5 6 5 6 7 4 4 7 6 10 4 10 7 11\\nC 9 14 6 8 3 7 8 7 7 11 6 7 2 9 6 8\\nC 4 8 5 6 3 6 8 7 8 8 8 14 2 10 4 9\\nC 1 3 2 1 1 5 9 4 6 11 9 11 1 9 2 8\\nG 2 1 2 1 1 8 6 6 6 6 5 9 1 7 5 10\\nC 4 7 5 5 5 5 7 3 5 8 6 11 6 9 4 9\\nC 6 10 9 7 6 7 8 8 6 5 6 13 5 8 4 7\\nG 2 1 3 1 1 8 6 6 6 6 5 9 1 7 5 10\\nG 4 8 5 6 3 7 7 7 7 10 7 12 2 9 4 9\\nG 4 8 5 6 3 7 6 6 7 11 6 12 2 10 4 9\\nG 4 6 5 4 5 9 8 6 2 5 7 9 6 10 3 8\\nG 4 5 5 8 2 7 6 8 8 6 5 11 2 8 6 11\\nG 3 7 4 5 2 8 7 8 8 6 6 11 1 8 5 10\\nC 1 3 2 1 1 5 9 4 6 11 8 10 1 9 2 8\\nG 4 5 5 8 2 7 6 8 8 6 5 10 2 8 6 11\\nC 3 8 4 6 2 6 8 7 9 5 7 12 1 7 4 9\\nG 7 15 6 8 5 8 7 4 4 8 6 7 4 9 9 8\\nC 6 8 6 6 3 5 7 6 8 11 8 14 2 10 4 7\\nC 2 1 2 2 1 6 7 6 10 7 6 14 0 8 4 9\\nG 1 3 2 1 1 7 7 4 5 9 7 10 1 9 3 10\\nG 6 10 6 7 5 5 7 6 5 9 7 12 2 9 5 8\\nC 2 1 2 2 1 6 8 7 7 8 7 13 1 8 4 10\\nC 3 7 4 5 2 4 8 7 7 7 8 14 1 8 4 10\\nC 4 6 4 4 2 3 9 5 8 10 10 12 1 8 3 7\\nC 4 5 6 8 2 6 8 7 10 5 7 13 1 7 4 9\\nG 2 1 3 2 2 7 7 5 5 6 6 9 2 9 4 9\\nG 4 8 5 6 3 7 7 7 7 11 6 11 2 9 4 9\\nC 4 3 5 5 2 6 7 6 10 7 6 13 1 8 4 9\\nC 3 1 4 3 2 6 8 7 7 8 8 13 1 10 4 10\\nC 4 8 5 6 6 6 7 4 4 6 7 10 6 10 4 8\\nG 5 11 4 6 3 8 7 5 3 9 6 7 3 9 8 8\\nG 7 10 6 6 4 8 7 4 3 9 5 6 4 9 8 8\\nG 4 9 5 7 4 5 7 5 4 9 8 9 2 8 5 9\\nC 3 5 4 3 1 4 9 5 7 12 10 11 1 9 2 7\\nG 6 11 8 9 9 7 9 6 3 6 6 9 6 7 8 7\\nC 5 9 7 8 8 5 6 4 5 7 6 11 5 11 8 11\\nG 4 9 6 6 6 7 7 6 3 7 6 9 5 7 7 7\\nG 7 11 8 8 6 6 6 7 7 9 8 11 2 11 5 9\\nG 3 8 5 6 4 8 7 7 5 6 6 9 2 7 5 11\\nC 2 5 3 3 2 6 8 7 8 8 7 13 1 9 4 10\\nG 4 5 5 4 3 7 7 6 7 9 6 11 2 10 5 9\\nG 4 5 5 8 2 7 6 8 9 6 5 11 1 8 6 11\\nC 8 13 5 8 2 8 6 7 7 12 5 9 2 10 5 9\\nC 5 8 5 6 3 4 8 6 7 12 10 11 1 9 2 7\\nC 2 5 3 4 2 6 8 7 8 9 8 13 1 10 4 10\\nC 2 7 3 5 1 5 7 7 9 7 6 14 1 8 4 9\\nC 3 7 5 6 5 5 8 3 5 7 7 11 3 9 6 10\\nG 3 7 4 5 3 7 7 7 6 6 5 9 1 8 5 11\\nG 4 9 5 6 6 8 5 4 3 7 5 11 6 8 5 11\\nG 5 10 7 8 5 6 6 7 6 6 6 10 2 8 5 8\\nC 5 9 5 7 3 4 8 6 8 12 10 12 1 9 3 7\\nC 2 7 3 5 1 6 8 7 8 5 6 13 1 7 4 9\\nC 3 9 4 7 3 5 8 9 8 9 8 11 2 10 4 10\\nC 4 4 5 6 2 6 6 7 11 8 5 12 1 9 4 9\\nC 4 9 5 7 4 5 7 8 7 10 8 13 2 11 4 10\\nC 4 7 4 5 3 4 7 5 6 11 9 14 1 9 3 9\\nC 6 9 8 8 8 5 9 4 6 6 6 11 4 11 8 9\\nG 5 5 6 8 3 7 6 8 8 6 6 10 2 8 6 11\\nC 4 5 6 7 2 5 6 6 11 7 5 12 1 9 4 8\\nG 5 10 6 7 5 7 7 7 7 6 5 10 1 7 5 11\\nG 8 12 6 6 5 8 8 4 3 9 5 6 4 9 9 8\\nC 4 6 5 4 2 5 8 5 7 12 9 12 2 10 3 8\\nG 5 10 6 7 4 6 7 7 7 9 8 11 2 8 5 9\\nG 1 3 2 1 1 7 7 4 4 9 7 10 2 8 4 10\\nG 3 5 5 4 5 7 8 5 2 7 7 8 6 11 7 8\\nC 1 1 2 1 0 6 7 6 9 7 6 15 0 8 4 10\\nG 3 5 4 4 2 7 6 6 5 6 6 9 2 9 4 9\\nC 6 9 8 7 5 7 7 8 6 8 5 11 4 9 4 8\\nC 5 7 6 6 5 4 8 3 6 7 6 10 3 9 7 8\\nG 2 3 3 2 1 7 6 5 4 6 6 9 2 9 4 9\\nC 5 7 6 5 6 8 4 6 3 8 6 11 8 8 4 7\\nC 2 5 3 4 2 5 8 7 8 8 8 14 1 9 4 10\\nG 7 9 7 7 5 6 7 6 6 10 8 11 2 9 4 10\\nG 5 10 7 8 6 6 6 7 6 6 5 12 3 10 5 7\\nC 1 3 2 2 1 5 8 4 5 12 8 10 1 10 2 8\\nC 7 10 9 8 6 6 8 8 6 5 6 13 6 8 5 6\\nG 4 6 6 6 6 7 7 5 4 7 7 8 7 10 6 8\\nG 6 11 8 8 9 8 7 6 2 7 6 11 5 8 9 7\\nG 2 0 2 1 1 8 6 6 6 6 5 9 1 7 5 10\\nC 2 3 3 2 1 5 8 5 6 11 9 10 1 10 2 7\\nC 4 10 5 7 3 6 8 7 7 13 8 8 2 11 3 7\\nC 8 13 5 7 3 6 10 6 9 11 8 10 2 8 5 9\\nG 4 8 4 6 3 6 7 6 5 9 8 10 2 7 4 9\\nC 2 1 2 2 1 6 8 7 7 9 7 12 1 10 4 10\\nG 3 1 4 2 2 7 7 6 6 6 6 9 2 9 4 9\\nG 6 9 5 4 3 10 6 4 6 11 3 8 4 7 5 9\\nC 4 4 5 7 2 7 6 7 10 9 5 13 1 10 4 9\\nC 3 10 5 8 4 5 8 7 6 9 8 14 2 9 4 10\\nC 6 10 4 5 2 6 9 6 6 11 7 7 2 9 5 9\\nG 4 6 5 4 3 7 6 6 6 10 6 11 2 10 4 10\\nG 5 10 6 7 4 6 7 7 7 10 7 11 2 10 4 9\\nC 4 6 5 4 5 7 7 4 3 6 8 10 5 11 3 8\\nG 1 3 2 2 1 7 6 5 4 7 6 10 2 9 3 9\\nC 3 4 4 3 1 4 8 5 7 11 9 12 1 9 2 7\\nG 3 6 5 4 2 8 6 7 8 6 5 10 2 8 5 10\\nC 4 9 5 7 3 4 8 6 8 12 10 12 1 9 3 7\\nC 4 7 6 5 3 7 7 7 6 7 6 8 4 9 4 8\\nC 5 10 6 8 2 5 7 7 11 7 6 14 1 8 4 9\\nC 3 7 4 5 2 5 8 6 7 11 8 13 1 9 3 8\\nC 1 3 2 1 1 4 8 4 6 10 9 12 1 8 2 8\\nC 3 6 4 4 1 5 8 6 10 6 7 11 1 7 4 8\\nC 2 4 3 3 2 6 8 7 7 8 7 13 1 9 4 10\\nC 4 9 5 6 2 6 6 7 10 9 5 14 1 10 4 9\\nG 4 7 5 5 3 7 6 7 7 7 5 11 2 9 4 8\\nG 5 11 5 8 5 5 7 6 4 9 9 10 2 8 4 10\\nC 4 5 5 4 2 4 8 5 7 11 10 12 1 9 3 7\\nG 4 8 5 6 4 8 7 7 6 6 6 9 2 7 5 11\\nG 5 10 6 8 5 6 6 6 5 9 7 12 3 8 5 9\\nG 5 11 4 6 3 7 7 4 3 9 6 7 3 10 8 7\\nG 3 7 4 5 3 8 7 7 5 6 7 9 2 7 5 11\\nG 5 9 7 6 8 8 8 5 2 6 6 9 7 8 6 11\\nG 4 7 4 5 3 7 6 6 6 10 7 11 2 10 4 10\\nG 5 10 6 7 7 7 5 6 3 7 6 11 4 8 7 7\\nC 4 9 5 6 3 5 8 7 7 8 8 14 2 9 4 10\\nG 5 9 6 7 3 8 6 8 9 6 6 10 1 8 6 10\\nC 3 5 4 4 2 4 8 5 7 11 9 12 1 9 3 7\\nC 3 7 4 5 2 6 6 6 10 8 5 12 1 9 4 8\\nG 4 7 6 5 5 7 7 6 3 7 6 10 4 8 7 7\\nC 8 12 5 7 2 6 8 7 8 10 7 12 2 9 5 9\\nG 2 4 3 3 2 6 7 5 5 9 7 10 2 9 4 9\\nG 4 9 6 7 7 9 6 5 2 7 6 10 8 8 4 11\\nG 3 4 4 6 2 8 8 8 7 6 7 8 2 7 6 11\\nG 3 5 5 5 4 7 10 5 2 7 7 8 6 11 7 8\\nG 8 10 6 5 3 8 5 4 4 9 4 6 4 7 5 8\\nC 2 7 3 5 2 5 8 7 7 8 8 13 2 9 4 10\\nC 3 6 5 4 4 7 7 4 3 7 7 10 5 10 3 8\\nC 9 14 7 8 5 8 6 5 3 9 8 10 6 8 9 10\\nC 3 6 4 4 1 6 7 6 10 7 6 13 1 8 4 9\\nG 3 3 4 5 2 7 8 8 7 6 7 7 2 7 6 11\\nC 5 8 6 6 4 6 8 6 9 6 6 13 1 8 4 9\\nG 5 9 4 4 3 7 6 3 3 8 6 8 4 9 8 6\\nG 6 8 8 7 9 8 7 6 3 7 7 8 7 11 7 9\\nC 5 10 6 8 2 6 7 7 10 7 6 15 1 8 4 9\\nG 3 3 4 2 2 7 7 5 6 6 6 9 2 9 4 8\\nC 4 9 5 6 2 6 8 7 10 4 6 14 1 7 4 9\\nG 3 7 4 5 2 8 7 8 7 6 6 9 2 7 5 11\\nC 1 0 2 0 0 7 7 6 8 7 6 13 0 8 4 10\\nG 4 9 5 7 4 5 7 6 5 10 8 11 2 9 4 10\\nC 2 3 3 2 1 4 7 4 6 10 9 13 1 9 2 7\\nG 3 7 4 5 2 6 6 6 6 10 8 11 2 10 4 9\\nC 3 6 4 4 2 6 8 8 8 8 8 13 2 10 4 9\\nG 3 4 4 6 2 7 5 7 7 5 5 10 1 8 6 11\\nC 2 3 3 4 1 6 7 7 9 9 6 13 1 9 4 9\\nG 4 6 5 4 3 6 7 6 6 9 8 9 2 8 4 9\\nC 1 0 1 1 0 6 7 6 8 7 6 14 0 8 4 10\\nC 3 6 4 4 1 3 9 5 7 11 11 10 2 9 2 6\\nC 1 0 2 1 0 7 7 6 7 7 6 13 0 8 4 10\\nG 4 7 5 5 3 7 7 6 7 10 7 11 2 9 4 9\\nG 3 2 5 3 3 7 6 6 6 6 6 10 2 9 4 9\\nG 7 10 7 7 5 5 7 7 6 9 8 10 2 9 5 9\\nG 7 12 6 6 4 7 8 4 3 9 5 6 3 9 10 7\\nC 4 7 5 5 2 4 9 6 8 12 10 11 1 9 3 7\\nG 5 10 6 8 6 6 5 7 6 7 5 11 3 10 4 9\\nG 2 3 3 2 2 6 6 5 6 7 5 10 2 9 4 9\\nG 4 7 5 5 3 5 8 5 5 9 9 8 2 8 4 9\\nC 3 7 4 5 2 5 8 6 8 12 9 11 1 10 3 7\\nG 4 9 3 4 2 8 6 5 2 9 6 8 3 10 7 7\\nC 4 8 5 6 3 5 8 7 7 8 8 14 2 9 4 10\\nC 5 11 6 8 4 5 7 6 9 8 4 11 1 10 5 10\\nC 3 4 4 3 2 6 8 7 8 8 8 13 1 9 4 10\\nC 4 7 5 5 2 4 9 6 8 12 10 12 1 9 3 7\\nC 4 8 6 6 5 5 6 4 5 8 6 11 6 9 4 8\\nG 5 11 6 8 3 7 6 8 9 5 5 10 1 8 6 11\\nG 3 2 4 4 3 7 7 6 6 7 6 10 3 8 4 9\\nG 7 10 7 8 4 7 6 7 8 11 5 12 3 9 5 8\\nC 3 7 4 5 2 3 9 6 7 11 11 11 1 8 2 6\\nC 3 5 4 3 2 4 8 5 7 11 9 12 1 9 3 7\\nG 5 9 7 8 8 7 6 6 4 8 7 9 10 8 10 7\\nG 4 8 6 6 3 6 6 6 7 7 5 9 3 10 4 8\\nC 3 5 4 4 2 6 8 7 7 9 8 12 2 10 4 10\\nG 2 4 3 3 2 6 7 5 5 9 7 10 2 8 4 10\\nG 7 13 6 7 3 9 6 5 6 11 4 8 5 7 5 8\\nG 2 3 3 2 1 6 7 5 5 9 7 10 2 8 4 10\\nG 2 3 4 2 2 7 7 6 5 6 6 9 2 9 4 9\\nC 3 8 4 6 3 5 7 6 8 5 6 12 1 7 4 10\\nG 7 11 6 6 3 9 4 4 3 8 3 5 4 7 4 9\\nG 3 4 5 6 2 7 5 7 8 6 5 11 1 8 6 11\\nC 3 7 4 5 3 5 8 6 6 8 8 14 2 9 4 10\\nC 3 8 4 6 2 5 8 7 7 7 8 14 1 9 4 10\\nG 2 7 3 5 2 7 7 7 5 6 6 9 2 8 5 11\\nG 4 6 4 4 2 6 7 6 6 9 8 10 2 8 4 9\\nC 4 8 5 6 3 6 8 8 8 9 8 13 2 10 4 9\\nC 3 5 4 4 2 6 7 7 8 8 8 13 1 9 4 10\\nG 3 2 4 4 3 6 6 6 6 6 6 10 2 9 4 9\\nC 9 14 6 8 3 5 11 6 9 12 8 7 2 8 6 8\\nG 3 8 4 6 2 8 5 8 9 8 4 12 1 9 5 10\\nG 3 6 5 5 5 7 8 5 2 7 7 8 6 11 7 7\\nG 5 5 6 8 3 7 6 8 8 6 5 10 2 8 6 11\\nC 5 9 5 7 4 4 8 5 7 11 9 14 2 9 3 7\\nG 6 11 7 8 5 5 7 6 6 9 8 10 2 8 5 9\\nG 4 9 5 7 4 7 6 7 6 6 7 9 2 8 4 8\\nC 3 5 5 4 4 6 7 4 4 6 6 11 4 10 7 11\\nC 4 8 5 6 2 6 8 6 10 6 6 13 1 8 4 8\\nG 5 10 6 8 6 7 6 7 8 6 4 10 2 9 6 11\\nC 1 0 1 1 0 6 7 6 7 7 6 13 0 8 4 10\\nG 4 6 5 4 2 7 6 6 7 11 6 12 2 9 4 9\\nG 7 9 10 8 11 7 7 6 3 7 7 8 8 10 9 9\\nG 4 9 5 7 3 6 7 7 8 9 8 10 2 10 4 9\\nG 6 9 7 7 8 9 6 5 3 7 6 10 8 8 6 10\\nC 2 3 3 4 1 5 7 6 8 7 6 13 1 8 4 9\\nG 3 7 4 5 2 8 7 8 7 6 6 9 2 7 6 11\\nG 5 10 6 7 4 6 7 7 7 10 7 11 2 9 5 9\\nC 6 12 4 6 2 7 8 7 6 11 7 7 2 9 5 8\\nG 3 4 4 3 2 6 7 5 5 9 7 10 2 9 4 9\\nG 6 10 7 7 5 5 7 6 5 9 8 11 2 8 4 10\\nG 1 0 1 0 0 8 7 5 4 6 5 9 1 8 4 10\\nG 3 8 4 6 2 7 6 7 8 6 6 8 1 8 6 11\\nC 2 3 3 1 1 5 9 4 6 12 8 10 1 9 2 7\\nC 6 9 5 4 3 8 7 4 3 9 8 10 4 8 7 11\\nC 2 2 3 4 2 6 8 7 7 8 8 13 1 9 4 10\\nG 3 8 4 6 2 7 6 7 7 6 6 10 1 8 6 11\\nG 5 8 6 6 5 8 7 7 6 6 7 9 2 6 6 10\\nC 4 7 5 5 3 6 7 6 8 7 6 11 1 9 4 9\\nG 4 6 4 4 3 6 7 5 5 9 7 10 2 9 4 10\\nC 5 7 5 5 3 6 8 6 8 12 8 12 2 10 3 7\\nC 2 4 3 2 1 4 9 5 7 11 9 12 1 9 3 7\\nC 4 8 5 6 2 5 8 6 8 11 9 13 1 9 3 7\\nC 5 9 6 7 3 5 8 7 8 7 8 14 2 9 4 9\\nC 4 9 5 6 3 5 7 6 8 5 7 12 1 7 4 9\\nC 2 6 3 4 2 5 8 6 6 6 7 14 1 8 3 10\\nG 4 7 4 5 3 6 6 6 5 10 7 13 2 9 4 10\\nC 3 5 5 3 2 4 8 5 7 12 9 11 1 9 3 7\\nC 4 6 6 4 5 7 6 4 4 8 7 11 5 9 3 8\\nC 2 4 3 6 1 5 7 7 9 8 6 14 1 9 4 9\\nG 5 10 7 7 6 6 6 7 5 5 6 10 2 8 4 8\\nC 5 8 5 6 3 4 8 5 7 11 10 13 1 9 3 8\\nG 5 8 6 6 3 5 7 6 6 10 8 10 2 8 5 9\\nG 5 5 6 7 3 7 7 8 7 6 6 7 2 7 7 11\\nG 5 9 7 8 8 8 8 6 3 7 6 9 8 11 9 11\\nC 3 4 4 3 2 6 8 7 7 9 8 12 2 10 3 9\\nG 5 11 6 8 5 5 5 6 7 7 5 12 2 10 4 9\\nG 5 8 7 6 4 6 7 6 6 6 6 9 4 7 4 8\\nC 6 8 8 7 7 5 7 4 5 7 6 11 4 9 8 9\\nG 5 11 6 8 8 8 4 4 3 7 5 11 6 8 6 13\\nG 5 9 5 6 3 6 7 6 7 10 8 10 2 9 4 9\\nG 3 7 4 5 2 8 7 8 7 6 6 9 2 7 5 11\\nG 2 3 3 1 2 7 7 6 6 6 6 9 2 9 4 9\\nC 5 4 6 7 2 5 7 7 11 7 5 12 1 9 4 8\\nC 7 14 5 8 5 6 6 4 4 10 9 12 4 9 9 8\\nC 3 8 4 6 2 5 8 8 8 9 8 13 2 10 4 10\\nG 4 5 5 8 3 8 7 8 7 6 7 8 2 7 6 11\\nG 5 7 6 5 4 5 7 5 6 9 8 9 2 9 5 9\\nG 5 7 5 5 4 6 8 5 5 9 8 8 2 8 4 9\\nC 5 9 4 5 1 6 8 6 7 11 7 9 2 9 5 9\\nG 4 10 6 8 3 7 6 8 8 6 6 9 2 8 6 11\\nG 4 6 4 4 2 6 7 6 7 10 7 10 2 10 4 9\\nG 9 14 7 8 5 8 7 5 4 9 5 6 4 9 8 8\\nC 1 1 2 2 1 6 8 6 7 8 8 12 1 9 4 10\\nG 3 5 4 4 3 6 7 5 4 9 8 9 3 7 5 10\\nG 7 10 6 5 4 8 4 4 3 8 6 10 4 9 6 7\\nG 5 9 6 7 5 5 6 6 7 6 5 11 2 10 4 8\\nG 4 9 5 7 3 5 7 6 5 10 8 10 2 8 5 9\\nG 5 7 7 6 6 8 10 5 3 6 7 10 8 11 7 8\\nG 6 11 5 6 4 8 5 4 3 9 6 9 4 9 8 8\\nG 6 10 7 8 5 6 6 6 5 9 6 12 4 8 5 8\\nG 4 7 6 5 3 6 6 6 8 6 5 9 3 10 4 8\\nC 3 6 4 4 2 6 7 5 6 11 8 12 1 9 3 9\\nC 3 9 5 7 3 4 8 7 7 9 9 14 2 9 4 9\\nG 4 7 4 5 3 6 7 6 6 10 7 10 2 9 4 9\\nG 1 1 2 1 1 7 7 5 5 6 6 10 2 9 3 9\\nG 7 10 7 8 5 6 6 7 7 10 7 11 2 9 5 9\\nC 5 9 5 7 3 4 10 7 8 13 10 8 2 10 2 6\\nG 5 11 6 8 5 5 6 6 6 6 6 11 2 9 4 8\\nG 3 5 4 4 2 6 7 5 5 9 7 10 2 8 4 10\\nC 4 8 5 6 3 4 9 6 7 7 8 14 1 8 4 10\\nC 4 8 5 6 4 7 7 8 5 8 6 12 4 9 4 8\\nC 3 6 5 4 4 6 6 3 4 8 6 11 5 9 3 8\\nG 3 7 4 5 2 7 7 8 7 5 6 10 2 7 5 10\\nG 4 9 5 7 4 5 7 5 4 9 9 9 2 7 5 9\\nC 2 1 2 1 0 6 7 6 9 7 6 14 0 8 4 10\\nC 7 13 5 8 4 7 9 4 4 9 7 9 3 9 8 11\\nG 7 10 7 8 5 6 8 6 6 10 8 9 3 7 6 9\\nC 5 8 6 6 3 7 6 6 8 13 7 12 2 10 4 7\\nC 5 11 6 8 3 5 8 8 8 8 8 14 2 9 4 9\\nG 5 11 6 8 3 8 7 8 8 6 6 9 2 7 5 10\\nC 1 0 1 0 0 7 7 5 7 7 6 13 0 8 4 10\\nG 2 5 4 3 2 7 7 6 6 6 6 10 2 8 4 9\\nG 6 10 7 8 5 6 6 6 6 11 6 12 4 9 5 8\\nC 5 10 7 8 8 7 5 4 4 8 6 11 7 9 4 8\\nG 4 9 5 7 2 8 6 8 8 6 6 12 2 8 5 10\\nC 6 12 5 7 4 8 5 4 3 9 9 11 4 9 8 10\\nG 6 9 8 7 10 8 7 4 3 6 5 9 8 7 9 13\\nG 2 1 3 2 2 7 6 6 5 6 6 9 2 9 4 9\\nG 3 8 4 6 3 6 6 6 6 7 5 11 3 10 4 8\\nC 3 5 4 4 1 3 9 5 7 12 10 11 1 9 2 7\\nG 1 0 2 0 1 8 6 5 5 6 5 9 1 8 5 10\\nC 6 10 6 8 3 3 9 6 8 12 11 11 1 8 2 6\\nC 4 10 5 8 3 5 8 8 8 9 8 13 2 9 4 10\\nG 5 11 7 9 3 7 6 8 9 6 6 10 1 8 6 11\\nC 7 10 9 8 6 7 7 8 7 6 7 8 5 6 5 9\\nC 7 10 5 6 2 5 10 5 8 11 8 9 2 8 5 8\\nG 5 8 7 7 8 8 9 5 3 7 6 8 7 11 8 9\\nG 8 12 7 6 5 7 6 3 3 8 5 7 4 9 9 7\\nG 3 2 5 4 3 7 6 6 6 6 6 10 2 9 4 9\\nC 4 11 5 8 3 6 8 9 8 10 8 11 2 12 4 9\\nC 3 8 4 6 2 4 8 7 9 9 9 13 1 9 4 9\\nG 3 9 4 6 4 7 6 7 6 6 5 8 1 7 6 11\\nC 2 3 3 2 1 4 8 4 6 10 9 12 1 9 2 8\\nC 3 10 4 8 3 5 7 6 8 7 5 12 1 8 4 10\\nG 3 6 4 4 2 6 7 5 5 5 7 8 2 8 4 8\\nC 5 7 7 6 6 5 7 4 4 7 6 11 4 9 7 9\\nC 2 7 3 5 2 5 8 7 8 6 7 14 1 8 4 9\\nC 5 8 7 7 7 5 7 4 5 7 7 11 4 9 7 9\\nG 3 6 4 4 4 7 8 5 3 6 6 9 3 7 6 8\\nG 3 5 4 4 2 6 7 5 5 9 7 10 2 9 4 10\\nC 5 10 3 5 2 7 8 7 5 11 6 9 2 9 5 9\\nC 2 2 3 4 2 6 8 8 7 9 8 12 1 10 4 10\\nG 3 4 4 3 2 6 7 5 5 10 7 10 2 9 4 9\\nC 5 5 6 8 2 6 7 7 10 8 6 15 1 9 4 9\\nG 3 4 4 3 2 6 6 6 6 6 6 10 2 9 3 9\\nG 1 0 2 1 0 8 6 6 4 6 5 9 1 8 5 10\\nC 2 2 3 4 2 6 8 7 7 8 8 13 1 9 4 10\\nC 6 9 7 7 7 8 5 6 3 7 8 11 8 9 5 4\\nC 4 9 5 7 3 6 8 9 8 9 8 12 2 10 4 9\\nC 2 5 3 4 2 6 9 7 8 9 8 13 1 10 4 10\\nC 7 9 5 5 2 7 9 6 7 12 7 8 1 8 6 9\\nG 10 14 8 8 5 8 8 5 4 9 6 6 4 9 9 8\\nG 6 10 7 8 9 8 6 4 4 6 5 9 7 7 8 13\\nC 5 7 5 5 3 5 7 5 7 11 9 14 2 9 3 8\\nC 5 11 6 9 4 6 8 9 7 10 7 11 2 11 4 9\\nG 4 9 5 7 3 8 8 8 8 5 7 9 2 7 6 11\\nC 5 9 6 6 3 5 8 8 9 9 8 12 2 10 4 9\\nC 2 3 3 1 1 5 8 4 6 11 9 11 1 9 2 8\\nG 4 6 5 4 3 7 6 5 6 11 6 12 2 10 3 10\\nC 1 0 1 1 0 6 7 6 8 7 6 14 0 8 4 10\\nC 4 6 5 4 3 6 7 5 6 11 8 13 2 10 3 9\\nG 2 1 2 1 1 8 6 6 6 6 5 9 1 7 5 10\\nG 3 3 4 5 2 7 8 8 7 6 7 8 2 7 5 10\\nC 5 8 6 6 2 6 6 7 11 8 5 12 1 9 4 8\\nC 1 3 2 2 1 6 8 7 7 8 7 13 1 9 4 10\\nC 4 10 5 8 3 6 7 10 8 10 8 11 2 12 4 9\\nC 2 3 3 2 1 6 8 7 7 9 7 12 1 10 3 9\\nC 6 11 7 8 4 5 8 8 9 9 9 13 2 9 4 9\\nG 4 9 5 7 3 8 8 8 8 6 7 8 2 7 6 11\\nG 3 6 4 4 2 7 7 7 7 7 5 12 2 9 4 9\\nC 1 0 2 1 0 6 7 6 9 7 6 14 0 8 4 10\\nG 5 9 6 7 5 7 7 8 5 5 7 9 3 6 5 9\\nG 2 1 3 2 2 7 6 6 5 6 6 10 2 9 4 9\\nG 5 10 7 7 8 7 4 5 3 8 6 11 7 7 10 6\\nC 6 11 5 6 3 7 8 4 3 8 8 10 4 8 7 11\\nC 5 9 4 4 3 7 10 3 4 9 7 9 3 8 6 10\\nG 4 6 5 4 3 5 9 5 5 10 8 7 2 8 5 9\\nC 3 4 4 3 2 4 9 5 8 11 9 11 1 9 3 7\\nG 2 2 4 3 2 6 6 6 6 7 6 11 2 9 4 9\\nG 3 2 5 4 3 6 6 6 6 6 6 9 2 9 4 9\\nC 4 7 5 5 2 4 9 6 8 13 11 10 1 9 2 6\\nC 6 9 8 8 8 5 7 3 5 7 6 11 4 11 8 8\\nG 2 4 3 3 2 6 6 5 4 8 7 10 2 8 4 10\\nC 4 7 5 5 2 6 6 6 10 7 6 13 1 9 4 9\\nC 2 1 3 2 1 6 8 7 8 8 7 13 1 9 4 10\\nG 3 2 5 3 3 7 7 6 6 6 7 9 2 8 4 8\\nG 4 8 5 6 3 6 7 6 6 10 8 10 2 9 4 9\\nC 4 9 5 7 2 6 6 7 10 8 5 13 1 10 4 9\\nG 4 9 4 4 3 7 7 3 2 8 5 7 3 10 8 7\\nC 2 4 3 3 1 6 8 7 8 8 7 14 1 9 4 10\\nC 2 4 2 2 1 4 8 5 7 11 9 12 1 9 3 8\\nC 7 11 8 8 4 2 10 5 8 11 11 11 1 8 2 6\\nC 1 1 2 2 1 6 8 6 6 9 7 12 1 9 3 10\\nG 4 7 4 5 3 5 7 5 4 8 7 11 2 8 4 10\\nC 5 6 6 5 5 5 8 3 5 7 6 10 3 10 8 7\\nC 4 7 4 5 3 5 8 5 6 11 9 13 2 9 3 7\\nC 5 9 6 7 4 4 7 5 7 10 8 14 3 8 4 7\\nC 2 2 3 4 2 6 8 7 8 8 8 13 1 9 4 10\\nG 2 3 3 2 2 7 7 5 5 9 7 10 2 8 4 9\\nG 3 4 4 6 2 7 8 8 7 5 7 8 2 7 6 11\\nC 2 2 3 3 2 6 8 7 8 8 7 13 1 9 4 10\\nG 5 7 6 5 4 5 7 6 5 9 7 10 2 9 4 10\\nC 10 14 8 8 6 7 8 4 4 9 8 10 4 9 9 11\\nG 4 5 5 4 3 6 7 6 6 9 7 10 2 9 4 9\\nC 3 8 4 6 1 6 7 7 9 8 6 13 1 9 4 9\\nC 4 7 5 5 3 7 9 8 6 5 6 12 4 8 3 8\\nG 3 7 4 5 2 7 8 8 7 6 7 8 2 7 6 11\\nC 3 6 4 4 1 5 8 6 10 6 7 12 1 7 4 8\\nC 2 5 3 3 2 6 8 7 7 9 7 12 2 9 4 10\\nG 4 10 6 7 8 7 5 4 3 7 5 10 8 7 8 13\\nC 2 1 2 1 1 6 7 6 9 7 6 13 0 8 4 9\\nC 2 1 2 2 1 6 8 7 7 8 7 12 1 9 4 10\\nC 4 9 5 6 2 6 8 7 11 5 6 13 1 7 4 9\\nG 2 4 3 3 2 6 7 5 5 9 7 10 2 9 4 10\\nC 3 7 4 5 2 7 7 7 10 8 6 14 1 9 4 9\\nC 4 9 5 7 3 4 8 6 7 7 8 15 1 8 4 10\\nG 3 4 4 2 2 6 7 5 5 10 7 9 2 9 4 9\\nG 3 7 4 5 3 6 7 7 6 8 7 11 2 8 4 9\\nC 6 11 7 8 3 5 7 7 11 7 6 12 1 9 4 8\\nC 3 2 4 3 2 6 8 7 7 9 8 13 1 9 4 10\\nG 4 6 6 4 3 6 6 5 7 6 5 9 3 9 4 8\\nC 7 14 5 8 4 6 9 4 4 9 8 9 4 9 9 10\\nG 6 10 7 8 5 5 7 5 5 9 9 9 2 8 5 8\\nG 3 4 4 6 2 7 6 8 7 6 6 10 1 7 6 11\\nC 8 12 6 6 2 5 11 5 8 11 8 9 1 7 5 8\\nC 4 7 5 6 6 6 5 4 5 7 5 11 5 10 7 11\\nC 2 3 2 2 1 4 9 5 6 12 9 10 1 9 2 7\\nC 5 9 6 6 3 5 8 8 9 9 8 13 2 10 4 9\\nG 6 10 8 8 6 6 6 6 6 5 6 11 2 9 4 8\\nG 6 10 7 8 6 7 7 8 7 6 6 9 2 7 5 11\\nG 2 4 4 3 2 7 7 6 6 6 6 10 2 9 4 9\\nC 2 5 3 3 2 6 8 7 7 8 8 13 1 9 4 10\\nG 4 8 5 6 2 7 6 7 8 6 6 9 1 8 6 11\\nG 6 9 6 7 5 6 6 6 5 9 6 12 4 8 6 7\\nC 6 11 6 8 3 4 8 6 8 12 10 12 2 9 3 7\\nC 3 4 4 6 1 5 6 7 9 6 5 13 1 8 4 9\\nG 4 9 5 7 6 7 7 6 2 7 6 11 4 9 8 7\\nG 6 9 7 7 4 6 7 7 8 10 7 11 2 9 4 9\\nC 3 7 4 5 2 4 9 6 7 12 10 11 1 10 2 7\\nC 4 7 4 5 2 4 7 6 7 9 8 15 1 8 3 8\\nG 3 7 4 5 3 6 6 5 4 6 6 9 2 8 3 8\\nG 4 6 5 4 6 8 5 4 3 7 6 10 6 8 4 10\\nC 4 5 5 4 2 4 9 5 8 12 10 12 1 8 2 7\\nG 4 7 6 5 3 5 5 5 7 6 5 9 2 10 4 7\\nG 6 11 7 8 6 8 7 7 6 6 5 9 2 7 5 11\\nC 2 3 3 2 1 4 8 3 6 11 9 12 1 9 2 7\\nG 6 9 6 6 4 5 7 6 6 9 8 10 2 8 5 9\\nG 3 6 4 4 2 6 6 5 7 7 5 10 2 10 4 8\\nG 2 1 3 2 2 7 7 5 4 7 6 9 3 6 4 9\\nG 4 8 4 6 3 6 6 6 7 11 7 12 2 10 3 10\\nG 4 9 4 6 3 6 7 7 6 10 8 10 2 9 4 9\\nG 5 7 7 6 7 6 10 5 3 7 7 7 9 13 8 7\\nC 5 8 5 6 3 6 7 5 6 12 8 13 3 9 4 7\\nG 4 6 5 4 3 6 7 6 6 10 7 11 2 9 4 10\\nC 3 6 4 4 2 5 8 7 7 8 8 14 1 9 4 10\\nC 2 5 3 4 2 6 8 7 7 8 8 14 1 9 4 10\\nG 2 4 3 3 2 6 6 6 5 6 6 9 2 8 4 8\\nG 5 10 6 7 5 6 6 6 6 10 7 13 3 9 5 9\\nC 1 3 2 1 1 6 8 6 6 8 7 13 1 9 3 10\\nG 2 3 3 2 1 7 7 5 5 10 7 10 2 9 4 10\\nG 2 4 3 3 2 6 7 5 4 9 8 10 2 9 4 9\\nG 4 8 5 6 3 5 6 5 6 6 6 9 2 8 4 7\\nG 5 6 7 5 7 7 8 6 3 7 7 8 6 11 7 8\\nG 6 11 5 6 4 8 7 4 3 9 6 7 4 9 9 8\\nC 7 10 7 7 4 3 8 5 7 11 10 13 1 9 3 7\\nC 4 7 5 5 5 5 7 3 5 7 6 10 5 10 3 8\\nG 3 5 4 4 2 6 7 6 6 10 7 10 2 9 4 10\\nG 8 12 7 6 4 10 3 3 4 10 2 6 4 7 5 11\\nG 5 10 6 8 3 7 6 8 8 6 6 8 2 8 6 11\\nG 5 11 6 8 4 6 7 7 7 10 7 11 2 9 4 9\\nC 3 6 5 5 4 5 6 3 4 7 6 11 4 10 7 8\\nG 2 3 3 4 2 7 8 8 7 5 7 9 2 7 5 11\\nG 4 8 5 6 4 5 8 5 5 8 8 9 2 7 4 10\\nG 4 10 5 7 4 5 6 6 5 9 8 11 2 9 4 10\\nC 6 11 6 8 3 4 8 6 8 12 10 13 1 9 3 7\\nG 4 8 6 7 6 7 8 5 3 7 6 9 6 11 8 10\\nG 2 2 3 4 2 7 6 6 5 6 6 9 2 9 4 9\\nG 6 8 8 7 8 7 8 5 3 7 7 9 7 11 7 8\\nG 2 2 4 3 2 6 7 6 6 7 6 10 2 8 4 9\\nG 2 4 3 2 1 7 8 5 6 9 7 10 2 9 4 10\\nC 2 5 3 3 2 6 8 7 8 8 7 13 1 9 4 10\\nG 6 9 5 5 4 8 4 5 2 9 6 9 4 8 7 8\\nG 3 6 4 4 2 8 6 7 7 6 6 9 1 7 6 11\\nC 4 8 5 6 3 5 7 6 9 6 7 13 1 7 4 9\\nG 3 3 4 4 2 7 6 7 8 6 5 10 1 8 6 11\\nC 3 7 4 5 2 5 9 6 7 12 9 9 2 10 3 7\\nG 6 11 6 8 5 5 6 6 5 10 8 11 2 9 4 10\\nG 4 10 6 8 7 7 9 6 3 5 5 11 5 7 8 7\\nG 5 11 7 8 6 6 6 6 7 6 6 9 4 9 4 8\\nG 6 11 7 9 5 6 7 8 7 6 6 13 3 8 5 7\\nC 2 1 3 2 1 6 7 6 10 7 6 14 0 8 4 9\\nG 2 0 2 1 1 8 6 6 5 6 5 9 1 8 5 10\\nC 6 9 6 7 3 5 8 7 8 13 9 9 2 11 3 6\\nC 6 11 8 9 6 7 8 8 6 4 7 12 5 6 4 8\\nC 5 10 4 5 3 8 7 4 2 8 8 10 3 9 7 13\\nG 8 15 6 8 5 9 5 5 3 9 6 9 5 9 8 8\\nC 7 10 7 8 4 3 8 6 7 12 11 12 2 9 2 7\\nG 7 13 6 7 4 10 6 5 6 11 4 8 5 7 5 9\\nG 2 1 2 2 1 8 6 6 6 6 5 10 1 7 5 10\\nC 4 7 5 5 3 3 8 5 7 10 9 14 1 8 3 8\\nC 6 10 6 7 3 4 8 6 8 12 10 12 1 9 3 7\\nC 5 9 6 7 3 4 8 6 9 12 9 12 1 9 3 7\\nC 2 1 2 2 1 6 7 6 9 7 6 14 0 8 4 9\\nC 4 10 5 8 2 6 8 7 10 4 6 13 1 7 4 8\\nC 4 8 5 6 5 5 7 4 5 7 7 9 7 9 5 9\\nG 1 3 2 1 1 7 7 5 5 10 7 10 2 9 3 10\\nG 6 11 7 8 6 6 7 7 5 8 7 11 5 7 6 6\\nG 2 4 3 3 2 6 7 5 5 9 7 10 2 9 4 9\\nC 5 9 5 7 3 5 8 6 8 12 9 12 2 10 3 7\\nG 7 11 8 8 5 6 6 7 8 10 7 11 2 10 5 9\\nC 2 6 3 4 2 7 8 8 7 10 6 11 2 11 4 9\\nC 4 8 4 6 2 5 7 6 7 11 9 14 1 9 3 8\\nG 5 9 6 6 7 9 6 5 2 6 6 10 6 7 5 11\\nC 6 10 6 8 3 5 9 7 8 13 9 7 2 11 2 7\\nG 2 5 3 4 2 6 7 5 5 9 7 10 2 9 4 10\\nC 4 11 5 8 4 5 8 8 7 10 9 13 2 10 4 10\\nC 2 1 3 2 1 6 7 6 10 7 6 14 0 8 4 9\\nC 4 7 5 5 3 6 7 6 8 5 6 13 1 6 5 9\\nG 4 5 5 4 3 6 6 6 6 6 6 9 2 9 4 8\\nC 6 9 7 7 8 5 6 4 5 7 6 11 6 9 4 8\\nG 5 5 6 8 3 6 6 8 9 6 6 9 1 8 6 11\\nC 3 8 4 6 2 6 7 7 10 6 6 14 1 8 4 9\\nG 7 10 9 8 9 9 4 6 3 8 5 10 11 6 5 8\\nG 5 10 4 5 3 9 5 4 3 9 4 5 4 7 5 8\\nC 2 4 3 3 1 6 8 7 7 9 8 13 1 10 4 10\\nG 3 2 4 4 3 6 7 6 6 7 6 10 3 7 4 9\\nC 3 7 4 5 2 6 8 8 8 9 7 12 1 10 4 9\\nG 1 0 2 0 0 8 7 5 5 6 5 9 1 8 5 10\\nG 6 9 8 7 8 7 10 6 3 5 5 11 5 7 8 7\\nG 3 5 4 3 2 6 6 6 5 8 7 11 2 8 4 10\\nC 4 9 5 7 2 5 7 7 10 7 6 14 1 8 4 9\\nG 1 0 2 1 1 8 6 6 5 6 5 9 1 8 5 10\\nC 2 4 3 3 1 4 8 5 7 11 9 12 1 9 2 7\\nC 5 9 6 6 5 7 8 8 6 6 6 11 4 8 4 8\\nC 6 9 4 4 2 7 9 6 6 11 7 8 2 9 5 9\\nG 6 10 8 8 8 7 10 6 3 5 6 10 4 7 7 7\\nC 2 1 2 1 0 6 7 6 9 7 6 14 0 8 4 10\\nC 5 10 6 7 4 7 7 8 7 6 6 9 4 8 4 8\\nG 3 4 4 3 2 6 7 4 4 9 7 9 2 8 5 10\\nC 1 0 2 0 0 7 7 6 8 7 6 13 0 8 4 10\\nC 7 10 7 7 4 4 10 7 8 12 10 8 2 10 3 7\\nG 4 5 5 3 3 7 6 6 7 7 6 10 2 9 3 8\\nC 2 7 3 5 1 5 7 6 8 6 6 12 1 7 4 9\\nC 2 5 3 3 2 6 8 7 7 8 7 13 1 9 4 10\\nG 3 5 5 4 3 6 6 6 6 6 6 9 2 8 4 8\\nG 4 9 5 6 7 8 7 5 2 6 6 8 8 8 7 12\\nG 4 4 5 6 2 7 5 7 8 6 5 11 1 8 6 11\\nG 4 7 6 5 6 7 7 6 2 7 6 11 4 9 7 9\\nC 3 9 4 6 3 5 8 8 7 10 8 12 2 11 4 10\\nG 1 0 2 1 0 8 6 6 4 6 5 9 1 8 5 10\\nC 5 8 5 6 2 4 9 6 8 12 9 12 1 9 3 7\\nC 4 5 5 3 2 4 8 4 8 11 9 12 1 9 3 7\\nC 4 9 5 7 4 6 7 6 8 5 8 11 1 7 4 9\\nC 3 5 4 3 2 4 8 5 8 11 9 13 1 9 3 7\\nG 4 8 6 6 6 7 9 6 3 6 6 9 4 7 7 7\\nG 4 11 5 8 4 7 7 7 6 6 5 9 2 7 5 11\\nG 7 14 6 8 5 7 6 3 3 8 6 9 4 9 9 7\\nC 3 7 4 5 1 5 7 6 9 6 6 14 1 8 4 9\\nG 5 10 6 8 5 7 7 7 6 6 5 9 2 8 6 11\\nG 4 10 5 8 3 7 6 8 8 6 5 10 2 8 6 11\\nC 7 10 5 5 2 6 8 6 8 11 7 11 2 8 5 9\\nC 3 8 4 6 2 5 8 7 7 8 8 14 2 10 4 10\\nG 4 7 4 5 3 6 7 5 5 9 7 12 2 9 4 10\\nG 2 6 3 4 2 8 8 6 5 6 7 9 2 7 5 11\\nC 5 9 7 6 4 7 7 8 7 7 6 9 4 8 4 9\\nC 4 6 4 4 2 3 9 5 8 11 10 11 1 8 3 7\\nC 4 7 5 5 2 6 9 7 7 13 8 7 2 11 2 6\\nG 5 9 6 7 4 7 6 7 8 11 6 11 2 11 4 9\\nG 3 3 4 5 2 7 7 7 6 6 6 7 2 7 6 11\\nG 4 10 5 7 4 7 7 7 6 6 5 8 1 7 6 11\\nC 4 9 5 7 4 6 8 6 8 7 6 13 1 8 4 9\\nC 0 0 1 0 0 6 7 5 6 7 6 13 0 8 3 10\\nC 4 7 5 5 2 7 7 6 7 12 7 11 2 10 3 8\\nC 2 4 3 3 2 6 8 7 8 8 7 13 1 9 4 10\\nG 3 9 5 6 3 6 7 7 6 5 7 9 2 7 4 9\\nC 5 8 5 6 3 5 7 5 6 11 8 13 2 9 4 8\\nG 3 7 4 5 2 7 6 8 9 8 4 12 1 9 5 10\\nG 6 10 6 8 4 6 7 6 7 10 8 11 2 9 5 9\\nG 2 4 3 3 2 7 7 5 5 6 6 9 2 8 4 9\\nG 4 11 5 8 5 7 7 8 6 5 7 9 2 7 6 10\\nC 3 4 4 3 1 5 9 5 7 12 9 11 1 10 3 7\\nC 4 8 5 6 3 5 8 8 8 8 8 14 1 9 4 9\\nC 5 11 6 8 2 5 7 7 10 7 6 14 1 8 4 9\\nG 2 1 3 2 2 6 7 6 6 6 6 10 2 9 3 9\\nG 2 1 3 2 1 8 6 6 6 6 5 9 1 7 5 10\\nC 6 10 5 5 3 7 8 4 3 9 8 10 4 9 8 10\\nG 2 4 3 6 2 7 7 8 6 5 7 9 2 7 5 11\\nC 6 10 8 7 5 7 7 8 7 7 6 11 4 8 4 9\\nG 4 9 4 6 3 6 7 6 5 10 8 10 2 9 4 9\\nG 3 6 4 4 2 7 6 6 6 6 6 10 2 9 4 8\\nG 3 5 4 3 2 6 7 5 5 9 7 10 2 9 4 9\\nC 3 6 4 4 1 6 7 6 10 7 6 13 1 8 4 9\\nC 6 11 7 8 5 5 7 7 9 8 6 13 2 11 5 8\\nG 5 8 7 7 7 7 8 6 3 7 7 9 7 10 8 8\\nG 7 10 7 7 5 7 6 7 8 11 6 11 2 11 5 9\\nG 3 1 4 2 2 7 7 5 6 7 6 9 3 7 4 8\\nG 2 3 3 1 1 7 7 5 5 9 6 9 2 9 4 10\\nC 4 11 5 8 2 5 7 7 10 7 7 13 1 8 4 9\\nG 7 11 9 9 12 8 7 4 3 6 5 9 8 7 9 14\\nG 2 5 3 3 2 6 7 5 5 9 7 10 2 9 4 9\\nC 2 1 2 2 1 6 8 6 7 8 7 13 1 9 3 10\\nG 2 4 4 3 2 6 7 6 6 6 6 10 2 8 4 9\\nG 1 0 2 1 1 8 7 6 5 6 5 9 1 7 5 10\\nG 5 10 6 8 4 7 6 7 7 11 6 12 3 10 5 8\\nC 3 8 4 6 2 5 8 7 8 7 8 14 1 8 4 10\\nC 3 8 5 6 3 5 7 6 8 8 5 11 1 9 4 9\\nG 5 10 6 7 5 6 5 6 7 6 6 10 3 9 4 7\\nG 2 3 2 1 1 7 7 5 5 7 6 9 2 9 4 9\\nG 7 9 9 8 10 7 8 6 3 7 7 8 9 11 8 9\\nG 6 11 8 9 9 9 7 5 2 6 6 10 8 8 5 10\\nG 4 6 6 4 5 7 9 6 3 6 6 10 4 7 7 7\\nC 4 9 5 6 4 5 8 7 6 9 8 14 2 10 4 10\\nC 2 7 3 5 1 5 7 7 8 7 6 14 1 8 4 9\\nC 4 6 5 5 5 5 6 3 5 7 6 11 4 10 6 10\\nG 5 10 6 8 3 7 6 8 8 6 6 9 2 7 6 10\\nG 4 4 5 6 2 7 6 7 8 6 6 9 2 8 6 11\\nC 4 8 5 6 2 6 9 7 10 5 7 12 1 6 4 8\\nC 4 8 5 6 3 3 8 5 7 10 10 13 1 8 3 7\\nC 5 9 6 7 2 6 8 7 11 6 7 13 1 7 4 8\\nC 5 8 7 6 6 6 5 4 4 9 6 12 6 8 4 9\\nG 6 8 6 6 5 6 7 6 5 9 7 10 2 8 5 9\\nG 3 2 4 3 2 7 6 6 6 6 6 10 2 9 4 9\\nG 5 11 7 8 4 6 6 8 8 8 5 13 3 11 5 8\\nG 3 8 5 6 2 7 7 8 7 6 6 8 2 7 6 11\\nC 5 10 7 9 8 5 6 4 4 7 6 11 5 11 8 10\\nC 5 10 5 7 3 3 8 5 7 11 10 13 1 9 3 8\\nC 2 4 3 2 1 5 9 4 7 11 9 11 1 9 2 7\\nG 5 10 7 8 6 8 7 7 6 6 7 7 2 7 8 13\\nG 5 9 4 4 3 8 6 5 2 9 6 8 3 10 7 8\\nG 3 7 4 5 2 8 8 8 7 5 7 9 2 7 5 10\\nC 4 7 4 5 2 4 8 6 8 10 9 14 1 8 3 8\\nC 2 0 2 1 1 6 7 6 10 7 6 14 0 8 4 9\\nG 9 15 8 8 5 10 3 3 3 9 3 6 4 7 5 9\\nG 4 8 5 6 2 8 6 8 8 7 5 12 2 8 5 10\\nC 4 7 6 5 3 7 7 8 6 6 6 10 3 8 4 9\\nC 2 3 2 2 1 4 8 4 6 11 9 11 1 9 2 7\\nC 3 8 4 6 3 5 8 6 6 9 8 14 1 9 3 10\\nG 4 5 5 8 2 8 6 9 8 6 6 12 2 8 5 10\\nC 5 9 6 6 3 3 8 5 7 11 10 14 1 8 3 7\\nG 6 8 8 7 9 7 9 6 2 7 7 8 7 11 7 7\\nC 7 10 7 7 4 4 10 7 8 12 10 9 2 10 3 6\\nC 4 8 5 6 3 8 7 7 6 6 7 9 4 8 3 9\\nG 6 11 8 9 6 6 6 7 5 5 6 12 5 7 5 6\\nG 4 5 6 4 5 8 9 5 3 7 7 10 6 10 6 9\\nC 2 1 3 2 1 7 8 7 6 9 7 11 1 9 3 10\\nG 3 4 4 3 2 6 7 5 5 9 7 10 2 9 4 9\\nC 4 10 5 8 2 5 7 7 10 7 5 14 1 9 4 9\\nG 7 10 8 8 5 5 7 6 6 9 8 9 2 9 5 9\\nC 4 10 6 8 5 8 6 9 6 8 6 11 4 9 4 8\\nC 7 10 5 5 2 6 10 6 7 12 8 8 2 9 5 8\\nG 2 2 3 3 2 7 6 6 5 6 6 10 2 9 4 9\\nG 2 1 3 2 2 7 7 5 5 6 6 10 2 9 3 9\\nG 3 7 4 5 5 8 7 4 1 7 6 9 6 8 6 12\\nC 4 8 5 6 2 5 7 7 10 7 5 12 1 9 4 9\\nG 6 8 6 6 5 6 7 6 6 9 7 11 2 9 4 9\\nC 3 5 4 3 2 6 8 7 8 8 8 13 1 9 4 10\\nG 5 10 6 8 3 8 6 8 9 6 5 11 2 8 6 10\\nG 7 11 7 8 5 7 6 7 7 10 7 13 3 8 5 7\\nG 3 8 4 6 3 6 6 5 4 5 6 9 2 8 4 8\\nG 3 4 4 3 2 6 7 5 5 9 7 10 2 9 4 9\\nC 4 7 5 5 2 5 8 7 8 7 8 14 1 8 4 9\\nG 4 8 4 6 3 7 7 6 7 11 6 10 2 10 4 9\\nG 7 11 7 8 6 6 6 6 6 10 6 14 5 8 6 7\\nG 6 11 8 8 5 6 6 6 7 6 6 8 3 8 4 7\\nG 2 3 2 2 1 7 6 6 5 7 6 9 2 9 4 9\\nC 5 9 6 6 4 7 7 8 6 6 6 11 4 8 4 9\\nG 4 6 6 6 6 8 9 6 3 6 6 9 7 11 6 9\\nG 4 4 5 7 2 7 7 8 8 6 6 11 1 8 5 11\\nG 4 7 4 5 3 7 6 6 6 10 6 12 2 10 4 9\\nC 1 3 2 2 1 7 8 6 5 9 7 11 2 10 3 10\\nG 3 7 4 5 3 7 7 7 6 6 6 9 1 8 5 11\\nC 3 6 4 4 2 3 9 5 7 11 11 11 1 8 2 7\\nC 3 9 4 7 2 5 8 7 9 6 7 13 1 8 4 9\\nG 3 7 4 5 3 6 6 5 5 6 6 10 2 9 4 8\\nC 7 10 8 8 8 6 6 3 5 8 6 12 6 9 5 10\\nG 6 10 8 7 5 6 6 6 6 6 6 8 4 7 4 8\\nG 3 5 4 4 2 6 7 6 6 10 7 11 2 9 4 9\\nG 9 13 8 8 4 8 3 4 3 8 4 5 4 7 5 9\\nC 2 4 3 3 1 4 8 4 7 10 9 13 1 8 2 7\\nC 4 9 5 8 6 5 7 3 4 7 6 11 4 10 7 10\\nG 6 9 8 6 7 7 8 5 3 6 6 9 5 7 7 7\\nG 4 9 5 6 3 6 7 7 7 10 8 9 2 9 4 9\\nG 3 4 4 2 2 6 7 5 5 9 7 10 2 8 4 9\\nG 6 9 8 7 8 7 8 6 2 6 5 11 6 8 10 6\\nC 6 11 8 8 9 8 6 5 3 8 7 11 10 8 6 5\\nG 3 5 4 7 2 7 7 8 7 5 6 10 2 7 5 11\\nC 5 4 6 6 2 6 7 7 11 8 6 13 1 9 4 8\\nG 5 11 6 8 4 6 6 7 8 11 6 13 2 9 4 8\\nC 4 7 6 5 6 6 6 4 4 8 6 11 6 9 3 9\\nG 5 11 7 8 5 7 6 7 8 7 4 12 2 9 6 8\\nC 4 8 6 6 4 8 8 8 6 7 6 8 4 7 4 8\\nC 7 11 7 8 5 6 6 6 7 13 8 13 4 9 4 6\\nG 4 10 6 7 3 7 5 7 10 5 4 10 1 9 6 11\\nG 5 7 6 5 3 7 6 7 7 10 6 11 2 10 4 9\\nG 4 4 5 6 3 7 6 8 7 6 6 7 2 8 6 11\\nC 3 4 4 6 2 6 7 7 9 5 6 14 1 7 4 8\\nC 5 10 6 8 3 5 8 6 8 12 9 12 2 9 3 7\\nC 5 11 6 8 5 5 7 6 9 8 5 13 1 9 4 9\\nG 4 8 5 6 2 8 7 8 8 6 6 9 2 7 6 11\\nG 2 3 3 2 1 6 7 5 4 9 7 10 2 9 4 10\\nG 3 11 5 8 4 7 7 7 7 8 4 12 2 9 6 10\\nC 7 10 7 7 4 6 7 6 8 13 8 12 3 11 5 5\\nC 1 3 2 2 1 6 8 4 6 11 8 12 1 10 3 8\\nG 3 5 4 4 2 6 6 6 5 9 7 11 2 9 4 10\\nG 5 9 4 5 3 7 7 3 2 8 6 7 4 10 8 7\\nC 9 13 6 7 3 6 10 6 8 11 8 8 2 8 5 9\\nC 1 3 2 2 1 6 7 7 6 8 7 13 1 9 3 10\\nC 2 3 2 2 1 4 8 4 6 11 10 11 1 9 2 7\\nC 2 4 3 2 1 4 9 4 7 12 10 10 1 9 2 7\\nC 5 10 6 8 4 5 8 9 9 9 9 12 2 10 4 9\\nC 6 11 7 8 4 6 7 10 9 10 7 11 2 12 4 9\\nG 5 9 6 7 4 6 7 6 6 10 7 10 2 9 5 9\\nC 6 11 7 8 5 5 8 7 6 8 8 15 4 9 6 6\\nC 5 10 5 8 3 6 8 7 7 13 7 9 2 11 3 7\\n'\n"
          ],
          "name": "stdout"
        }
      ]
    },
    {
      "cell_type": "code",
      "metadata": {
        "id": "Cf8bznUydXqr",
        "colab": {
          "base_uri": "https://localhost:8080/"
        },
        "outputId": "dca53cd5-1eab-4a88-8b59-9422ffecf7f4"
      },
      "source": [
        "#Extract data using ASCII \n",
        "data_decode = f.decode('ASCII')\n",
        "type(data_decode)"
      ],
      "execution_count": null,
      "outputs": [
        {
          "output_type": "execute_result",
          "data": {
            "text/plain": [
              "str"
            ]
          },
          "metadata": {
            "tags": []
          },
          "execution_count": 142
        }
      ]
    },
    {
      "cell_type": "code",
      "metadata": {
        "colab": {
          "base_uri": "https://localhost:8080/"
        },
        "id": "mb5hSEx5Zf7K",
        "outputId": "542ad25a-5f7d-453a-9e5b-4a72a2ef44d3"
      },
      "source": [
        "print(data_decode[0:103])"
      ],
      "execution_count": null,
      "outputs": [
        {
          "output_type": "stream",
          "text": [
            "Class x-box y-box width high  onpix x-bar y-bar x2bar y2bar xybar x2ybr xy2br x-ege xegvy y-ege yegvx \n",
            "\n"
          ],
          "name": "stdout"
        }
      ]
    },
    {
      "cell_type": "code",
      "metadata": {
        "id": "6Np6jARkdXxX"
      },
      "source": [
        "#Convert string to array\n",
        "array = np.array(data_decode.split('\\n'))"
      ],
      "execution_count": null,
      "outputs": []
    },
    {
      "cell_type": "code",
      "metadata": {
        "id": "ue2uWK6jdX0H",
        "colab": {
          "base_uri": "https://localhost:8080/"
        },
        "outputId": "26783979-9d26-4cc3-a8f9-2bf44bd5e67c"
      },
      "source": [
        "#Convert array to dataframe \n",
        "#for processing data to model\n",
        "df = pd.DataFrame(array)\n",
        "df.info()"
      ],
      "execution_count": null,
      "outputs": [
        {
          "output_type": "stream",
          "text": [
            "<class 'pandas.core.frame.DataFrame'>\n",
            "RangeIndex: 1511 entries, 0 to 1510\n",
            "Data columns (total 1 columns):\n",
            " #   Column  Non-Null Count  Dtype \n",
            "---  ------  --------------  ----- \n",
            " 0   0       1511 non-null   object\n",
            "dtypes: object(1)\n",
            "memory usage: 11.9+ KB\n"
          ],
          "name": "stdout"
        }
      ]
    },
    {
      "cell_type": "code",
      "metadata": {
        "colab": {
          "base_uri": "https://localhost:8080/",
          "height": 204
        },
        "id": "O90sDY8GoocX",
        "outputId": "5baac9de-86fa-4b72-9705-a1e6452c73e0"
      },
      "source": [
        "#split data into different columns\n",
        "data = df[0].str.split(expand=True)\n",
        "data.head()"
      ],
      "execution_count": null,
      "outputs": [
        {
          "output_type": "execute_result",
          "data": {
            "text/html": [
              "<div>\n",
              "<style scoped>\n",
              "    .dataframe tbody tr th:only-of-type {\n",
              "        vertical-align: middle;\n",
              "    }\n",
              "\n",
              "    .dataframe tbody tr th {\n",
              "        vertical-align: top;\n",
              "    }\n",
              "\n",
              "    .dataframe thead th {\n",
              "        text-align: right;\n",
              "    }\n",
              "</style>\n",
              "<table border=\"1\" class=\"dataframe\">\n",
              "  <thead>\n",
              "    <tr style=\"text-align: right;\">\n",
              "      <th></th>\n",
              "      <th>0</th>\n",
              "      <th>1</th>\n",
              "      <th>2</th>\n",
              "      <th>3</th>\n",
              "      <th>4</th>\n",
              "      <th>5</th>\n",
              "      <th>6</th>\n",
              "      <th>7</th>\n",
              "      <th>8</th>\n",
              "      <th>9</th>\n",
              "      <th>10</th>\n",
              "      <th>11</th>\n",
              "      <th>12</th>\n",
              "      <th>13</th>\n",
              "      <th>14</th>\n",
              "      <th>15</th>\n",
              "      <th>16</th>\n",
              "    </tr>\n",
              "  </thead>\n",
              "  <tbody>\n",
              "    <tr>\n",
              "      <th>0</th>\n",
              "      <td>Class</td>\n",
              "      <td>x-box</td>\n",
              "      <td>y-box</td>\n",
              "      <td>width</td>\n",
              "      <td>high</td>\n",
              "      <td>onpix</td>\n",
              "      <td>x-bar</td>\n",
              "      <td>y-bar</td>\n",
              "      <td>x2bar</td>\n",
              "      <td>y2bar</td>\n",
              "      <td>xybar</td>\n",
              "      <td>x2ybr</td>\n",
              "      <td>xy2br</td>\n",
              "      <td>x-ege</td>\n",
              "      <td>xegvy</td>\n",
              "      <td>y-ege</td>\n",
              "      <td>yegvx</td>\n",
              "    </tr>\n",
              "    <tr>\n",
              "      <th>1</th>\n",
              "      <td>C</td>\n",
              "      <td>4</td>\n",
              "      <td>10</td>\n",
              "      <td>5</td>\n",
              "      <td>8</td>\n",
              "      <td>2</td>\n",
              "      <td>5</td>\n",
              "      <td>7</td>\n",
              "      <td>7</td>\n",
              "      <td>10</td>\n",
              "      <td>7</td>\n",
              "      <td>6</td>\n",
              "      <td>13</td>\n",
              "      <td>1</td>\n",
              "      <td>8</td>\n",
              "      <td>4</td>\n",
              "      <td>9</td>\n",
              "    </tr>\n",
              "    <tr>\n",
              "      <th>2</th>\n",
              "      <td>C</td>\n",
              "      <td>3</td>\n",
              "      <td>5</td>\n",
              "      <td>4</td>\n",
              "      <td>4</td>\n",
              "      <td>2</td>\n",
              "      <td>4</td>\n",
              "      <td>8</td>\n",
              "      <td>5</td>\n",
              "      <td>7</td>\n",
              "      <td>12</td>\n",
              "      <td>9</td>\n",
              "      <td>11</td>\n",
              "      <td>1</td>\n",
              "      <td>10</td>\n",
              "      <td>2</td>\n",
              "      <td>7</td>\n",
              "    </tr>\n",
              "    <tr>\n",
              "      <th>3</th>\n",
              "      <td>G</td>\n",
              "      <td>5</td>\n",
              "      <td>10</td>\n",
              "      <td>6</td>\n",
              "      <td>7</td>\n",
              "      <td>3</td>\n",
              "      <td>8</td>\n",
              "      <td>7</td>\n",
              "      <td>8</td>\n",
              "      <td>8</td>\n",
              "      <td>6</td>\n",
              "      <td>7</td>\n",
              "      <td>9</td>\n",
              "      <td>2</td>\n",
              "      <td>7</td>\n",
              "      <td>5</td>\n",
              "      <td>10</td>\n",
              "    </tr>\n",
              "    <tr>\n",
              "      <th>4</th>\n",
              "      <td>C</td>\n",
              "      <td>5</td>\n",
              "      <td>9</td>\n",
              "      <td>6</td>\n",
              "      <td>7</td>\n",
              "      <td>4</td>\n",
              "      <td>3</td>\n",
              "      <td>8</td>\n",
              "      <td>6</td>\n",
              "      <td>7</td>\n",
              "      <td>12</td>\n",
              "      <td>10</td>\n",
              "      <td>13</td>\n",
              "      <td>1</td>\n",
              "      <td>9</td>\n",
              "      <td>3</td>\n",
              "      <td>7</td>\n",
              "    </tr>\n",
              "  </tbody>\n",
              "</table>\n",
              "</div>"
            ],
            "text/plain": [
              "      0      1      2      3     4   ...     12     13     14     15     16\n",
              "0  Class  x-box  y-box  width  high  ...  xy2br  x-ege  xegvy  y-ege  yegvx\n",
              "1      C      4     10      5     8  ...     13      1      8      4      9\n",
              "2      C      3      5      4     4  ...     11      1     10      2      7\n",
              "3      G      5     10      6     7  ...      9      2      7      5     10\n",
              "4      C      5      9      6     7  ...     13      1      9      3      7\n",
              "\n",
              "[5 rows x 17 columns]"
            ]
          },
          "metadata": {
            "tags": []
          },
          "execution_count": 163
        }
      ]
    },
    {
      "cell_type": "code",
      "metadata": {
        "colab": {
          "base_uri": "https://localhost:8080/",
          "height": 204
        },
        "id": "s8boHFTNFW35",
        "outputId": "3714fe51-ad66-4be7-ec50-f93943799b3d"
      },
      "source": [
        "#Add headers to data\n",
        "data.columns = data.iloc[0]\n",
        "data.drop([0], axis=0, inplace=True)\n",
        "data.head()"
      ],
      "execution_count": null,
      "outputs": [
        {
          "output_type": "execute_result",
          "data": {
            "text/html": [
              "<div>\n",
              "<style scoped>\n",
              "    .dataframe tbody tr th:only-of-type {\n",
              "        vertical-align: middle;\n",
              "    }\n",
              "\n",
              "    .dataframe tbody tr th {\n",
              "        vertical-align: top;\n",
              "    }\n",
              "\n",
              "    .dataframe thead th {\n",
              "        text-align: right;\n",
              "    }\n",
              "</style>\n",
              "<table border=\"1\" class=\"dataframe\">\n",
              "  <thead>\n",
              "    <tr style=\"text-align: right;\">\n",
              "      <th></th>\n",
              "      <th>Class</th>\n",
              "      <th>x-box</th>\n",
              "      <th>y-box</th>\n",
              "      <th>width</th>\n",
              "      <th>high</th>\n",
              "      <th>onpix</th>\n",
              "      <th>x-bar</th>\n",
              "      <th>y-bar</th>\n",
              "      <th>x2bar</th>\n",
              "      <th>y2bar</th>\n",
              "      <th>xybar</th>\n",
              "      <th>x2ybr</th>\n",
              "      <th>xy2br</th>\n",
              "      <th>x-ege</th>\n",
              "      <th>xegvy</th>\n",
              "      <th>y-ege</th>\n",
              "      <th>yegvx</th>\n",
              "    </tr>\n",
              "  </thead>\n",
              "  <tbody>\n",
              "    <tr>\n",
              "      <th>1</th>\n",
              "      <td>C</td>\n",
              "      <td>4</td>\n",
              "      <td>10</td>\n",
              "      <td>5</td>\n",
              "      <td>8</td>\n",
              "      <td>2</td>\n",
              "      <td>5</td>\n",
              "      <td>7</td>\n",
              "      <td>7</td>\n",
              "      <td>10</td>\n",
              "      <td>7</td>\n",
              "      <td>6</td>\n",
              "      <td>13</td>\n",
              "      <td>1</td>\n",
              "      <td>8</td>\n",
              "      <td>4</td>\n",
              "      <td>9</td>\n",
              "    </tr>\n",
              "    <tr>\n",
              "      <th>2</th>\n",
              "      <td>C</td>\n",
              "      <td>3</td>\n",
              "      <td>5</td>\n",
              "      <td>4</td>\n",
              "      <td>4</td>\n",
              "      <td>2</td>\n",
              "      <td>4</td>\n",
              "      <td>8</td>\n",
              "      <td>5</td>\n",
              "      <td>7</td>\n",
              "      <td>12</td>\n",
              "      <td>9</td>\n",
              "      <td>11</td>\n",
              "      <td>1</td>\n",
              "      <td>10</td>\n",
              "      <td>2</td>\n",
              "      <td>7</td>\n",
              "    </tr>\n",
              "    <tr>\n",
              "      <th>3</th>\n",
              "      <td>G</td>\n",
              "      <td>5</td>\n",
              "      <td>10</td>\n",
              "      <td>6</td>\n",
              "      <td>7</td>\n",
              "      <td>3</td>\n",
              "      <td>8</td>\n",
              "      <td>7</td>\n",
              "      <td>8</td>\n",
              "      <td>8</td>\n",
              "      <td>6</td>\n",
              "      <td>7</td>\n",
              "      <td>9</td>\n",
              "      <td>2</td>\n",
              "      <td>7</td>\n",
              "      <td>5</td>\n",
              "      <td>10</td>\n",
              "    </tr>\n",
              "    <tr>\n",
              "      <th>4</th>\n",
              "      <td>C</td>\n",
              "      <td>5</td>\n",
              "      <td>9</td>\n",
              "      <td>6</td>\n",
              "      <td>7</td>\n",
              "      <td>4</td>\n",
              "      <td>3</td>\n",
              "      <td>8</td>\n",
              "      <td>6</td>\n",
              "      <td>7</td>\n",
              "      <td>12</td>\n",
              "      <td>10</td>\n",
              "      <td>13</td>\n",
              "      <td>1</td>\n",
              "      <td>9</td>\n",
              "      <td>3</td>\n",
              "      <td>7</td>\n",
              "    </tr>\n",
              "    <tr>\n",
              "      <th>5</th>\n",
              "      <td>G</td>\n",
              "      <td>4</td>\n",
              "      <td>8</td>\n",
              "      <td>5</td>\n",
              "      <td>6</td>\n",
              "      <td>3</td>\n",
              "      <td>6</td>\n",
              "      <td>6</td>\n",
              "      <td>7</td>\n",
              "      <td>6</td>\n",
              "      <td>10</td>\n",
              "      <td>7</td>\n",
              "      <td>12</td>\n",
              "      <td>2</td>\n",
              "      <td>9</td>\n",
              "      <td>4</td>\n",
              "      <td>9</td>\n",
              "    </tr>\n",
              "  </tbody>\n",
              "</table>\n",
              "</div>"
            ],
            "text/plain": [
              "0 Class x-box y-box width high onpix  ... x2ybr xy2br x-ege xegvy y-ege yegvx\n",
              "1     C     4    10     5    8     2  ...     6    13     1     8     4     9\n",
              "2     C     3     5     4    4     2  ...     9    11     1    10     2     7\n",
              "3     G     5    10     6    7     3  ...     7     9     2     7     5    10\n",
              "4     C     5     9     6    7     4  ...    10    13     1     9     3     7\n",
              "5     G     4     8     5    6     3  ...     7    12     2     9     4     9\n",
              "\n",
              "[5 rows x 17 columns]"
            ]
          },
          "metadata": {
            "tags": []
          },
          "execution_count": 164
        }
      ]
    },
    {
      "cell_type": "code",
      "metadata": {
        "colab": {
          "base_uri": "https://localhost:8080/"
        },
        "id": "7ViEV-GIIv2K",
        "outputId": "a7969101-b936-4bb7-e983-6b8550c9a00a"
      },
      "source": [
        "data.info()"
      ],
      "execution_count": null,
      "outputs": [
        {
          "output_type": "stream",
          "text": [
            "<class 'pandas.core.frame.DataFrame'>\n",
            "Int64Index: 1510 entries, 1 to 1510\n",
            "Data columns (total 17 columns):\n",
            " #   Column  Non-Null Count  Dtype \n",
            "---  ------  --------------  ----- \n",
            " 0   Class   1509 non-null   object\n",
            " 1   x-box   1509 non-null   object\n",
            " 2   y-box   1509 non-null   object\n",
            " 3   width   1509 non-null   object\n",
            " 4   high    1509 non-null   object\n",
            " 5   onpix   1509 non-null   object\n",
            " 6   x-bar   1509 non-null   object\n",
            " 7   y-bar   1509 non-null   object\n",
            " 8   x2bar   1509 non-null   object\n",
            " 9   y2bar   1509 non-null   object\n",
            " 10  xybar   1509 non-null   object\n",
            " 11  x2ybr   1509 non-null   object\n",
            " 12  xy2br   1509 non-null   object\n",
            " 13  x-ege   1509 non-null   object\n",
            " 14  xegvy   1509 non-null   object\n",
            " 15  y-ege   1509 non-null   object\n",
            " 16  yegvx   1509 non-null   object\n",
            "dtypes: object(17)\n",
            "memory usage: 212.3+ KB\n"
          ],
          "name": "stdout"
        }
      ]
    },
    {
      "cell_type": "code",
      "metadata": {
        "colab": {
          "base_uri": "https://localhost:8080/",
          "height": 204
        },
        "id": "XldeXbDDJyTg",
        "outputId": "55c3431a-6da2-4be3-8785-814a628de130"
      },
      "source": [
        "#Analyse data\n",
        "data.tail()"
      ],
      "execution_count": null,
      "outputs": [
        {
          "output_type": "execute_result",
          "data": {
            "text/html": [
              "<div>\n",
              "<style scoped>\n",
              "    .dataframe tbody tr th:only-of-type {\n",
              "        vertical-align: middle;\n",
              "    }\n",
              "\n",
              "    .dataframe tbody tr th {\n",
              "        vertical-align: top;\n",
              "    }\n",
              "\n",
              "    .dataframe thead th {\n",
              "        text-align: right;\n",
              "    }\n",
              "</style>\n",
              "<table border=\"1\" class=\"dataframe\">\n",
              "  <thead>\n",
              "    <tr style=\"text-align: right;\">\n",
              "      <th></th>\n",
              "      <th>Class</th>\n",
              "      <th>x-box</th>\n",
              "      <th>y-box</th>\n",
              "      <th>width</th>\n",
              "      <th>high</th>\n",
              "      <th>onpix</th>\n",
              "      <th>x-bar</th>\n",
              "      <th>y-bar</th>\n",
              "      <th>x2bar</th>\n",
              "      <th>y2bar</th>\n",
              "      <th>xybar</th>\n",
              "      <th>x2ybr</th>\n",
              "      <th>xy2br</th>\n",
              "      <th>x-ege</th>\n",
              "      <th>xegvy</th>\n",
              "      <th>y-ege</th>\n",
              "      <th>yegvx</th>\n",
              "    </tr>\n",
              "  </thead>\n",
              "  <tbody>\n",
              "    <tr>\n",
              "      <th>1506</th>\n",
              "      <td>C</td>\n",
              "      <td>6</td>\n",
              "      <td>11</td>\n",
              "      <td>7</td>\n",
              "      <td>8</td>\n",
              "      <td>4</td>\n",
              "      <td>6</td>\n",
              "      <td>7</td>\n",
              "      <td>10</td>\n",
              "      <td>9</td>\n",
              "      <td>10</td>\n",
              "      <td>7</td>\n",
              "      <td>11</td>\n",
              "      <td>2</td>\n",
              "      <td>12</td>\n",
              "      <td>4</td>\n",
              "      <td>9</td>\n",
              "    </tr>\n",
              "    <tr>\n",
              "      <th>1507</th>\n",
              "      <td>G</td>\n",
              "      <td>5</td>\n",
              "      <td>9</td>\n",
              "      <td>6</td>\n",
              "      <td>7</td>\n",
              "      <td>4</td>\n",
              "      <td>6</td>\n",
              "      <td>7</td>\n",
              "      <td>6</td>\n",
              "      <td>6</td>\n",
              "      <td>10</td>\n",
              "      <td>7</td>\n",
              "      <td>10</td>\n",
              "      <td>2</td>\n",
              "      <td>9</td>\n",
              "      <td>5</td>\n",
              "      <td>9</td>\n",
              "    </tr>\n",
              "    <tr>\n",
              "      <th>1508</th>\n",
              "      <td>C</td>\n",
              "      <td>6</td>\n",
              "      <td>11</td>\n",
              "      <td>7</td>\n",
              "      <td>8</td>\n",
              "      <td>5</td>\n",
              "      <td>5</td>\n",
              "      <td>8</td>\n",
              "      <td>7</td>\n",
              "      <td>6</td>\n",
              "      <td>8</td>\n",
              "      <td>8</td>\n",
              "      <td>15</td>\n",
              "      <td>4</td>\n",
              "      <td>9</td>\n",
              "      <td>6</td>\n",
              "      <td>6</td>\n",
              "    </tr>\n",
              "    <tr>\n",
              "      <th>1509</th>\n",
              "      <td>C</td>\n",
              "      <td>5</td>\n",
              "      <td>10</td>\n",
              "      <td>5</td>\n",
              "      <td>8</td>\n",
              "      <td>3</td>\n",
              "      <td>6</td>\n",
              "      <td>8</td>\n",
              "      <td>7</td>\n",
              "      <td>7</td>\n",
              "      <td>13</td>\n",
              "      <td>7</td>\n",
              "      <td>9</td>\n",
              "      <td>2</td>\n",
              "      <td>11</td>\n",
              "      <td>3</td>\n",
              "      <td>7</td>\n",
              "    </tr>\n",
              "    <tr>\n",
              "      <th>1510</th>\n",
              "      <td>None</td>\n",
              "      <td>None</td>\n",
              "      <td>None</td>\n",
              "      <td>None</td>\n",
              "      <td>None</td>\n",
              "      <td>None</td>\n",
              "      <td>None</td>\n",
              "      <td>None</td>\n",
              "      <td>None</td>\n",
              "      <td>None</td>\n",
              "      <td>None</td>\n",
              "      <td>None</td>\n",
              "      <td>None</td>\n",
              "      <td>None</td>\n",
              "      <td>None</td>\n",
              "      <td>None</td>\n",
              "      <td>None</td>\n",
              "    </tr>\n",
              "  </tbody>\n",
              "</table>\n",
              "</div>"
            ],
            "text/plain": [
              "0    Class x-box y-box width  high onpix  ... x2ybr xy2br x-ege xegvy y-ege yegvx\n",
              "1506     C     6    11     7     8     4  ...     7    11     2    12     4     9\n",
              "1507     G     5     9     6     7     4  ...     7    10     2     9     5     9\n",
              "1508     C     6    11     7     8     5  ...     8    15     4     9     6     6\n",
              "1509     C     5    10     5     8     3  ...     7     9     2    11     3     7\n",
              "1510  None  None  None  None  None  None  ...  None  None  None  None  None  None\n",
              "\n",
              "[5 rows x 17 columns]"
            ]
          },
          "metadata": {
            "tags": []
          },
          "execution_count": 166
        }
      ]
    },
    {
      "cell_type": "code",
      "metadata": {
        "id": "cvnF9hqeLs_3"
      },
      "source": [
        "#drop last row as not representing any data\n",
        "data.drop([1510], axis=0, inplace=True)"
      ],
      "execution_count": null,
      "outputs": []
    },
    {
      "cell_type": "code",
      "metadata": {
        "colab": {
          "base_uri": "https://localhost:8080/",
          "height": 204
        },
        "id": "pit8bE6NL4Hm",
        "outputId": "0ad9a946-ad93-4c29-8a16-fcf372694346"
      },
      "source": [
        "data.tail()"
      ],
      "execution_count": null,
      "outputs": [
        {
          "output_type": "execute_result",
          "data": {
            "text/html": [
              "<div>\n",
              "<style scoped>\n",
              "    .dataframe tbody tr th:only-of-type {\n",
              "        vertical-align: middle;\n",
              "    }\n",
              "\n",
              "    .dataframe tbody tr th {\n",
              "        vertical-align: top;\n",
              "    }\n",
              "\n",
              "    .dataframe thead th {\n",
              "        text-align: right;\n",
              "    }\n",
              "</style>\n",
              "<table border=\"1\" class=\"dataframe\">\n",
              "  <thead>\n",
              "    <tr style=\"text-align: right;\">\n",
              "      <th></th>\n",
              "      <th>Class</th>\n",
              "      <th>x-box</th>\n",
              "      <th>y-box</th>\n",
              "      <th>width</th>\n",
              "      <th>high</th>\n",
              "      <th>onpix</th>\n",
              "      <th>x-bar</th>\n",
              "      <th>y-bar</th>\n",
              "      <th>x2bar</th>\n",
              "      <th>y2bar</th>\n",
              "      <th>xybar</th>\n",
              "      <th>x2ybr</th>\n",
              "      <th>xy2br</th>\n",
              "      <th>x-ege</th>\n",
              "      <th>xegvy</th>\n",
              "      <th>y-ege</th>\n",
              "      <th>yegvx</th>\n",
              "    </tr>\n",
              "  </thead>\n",
              "  <tbody>\n",
              "    <tr>\n",
              "      <th>1505</th>\n",
              "      <td>C</td>\n",
              "      <td>5</td>\n",
              "      <td>10</td>\n",
              "      <td>6</td>\n",
              "      <td>8</td>\n",
              "      <td>4</td>\n",
              "      <td>5</td>\n",
              "      <td>8</td>\n",
              "      <td>9</td>\n",
              "      <td>9</td>\n",
              "      <td>9</td>\n",
              "      <td>9</td>\n",
              "      <td>12</td>\n",
              "      <td>2</td>\n",
              "      <td>10</td>\n",
              "      <td>4</td>\n",
              "      <td>9</td>\n",
              "    </tr>\n",
              "    <tr>\n",
              "      <th>1506</th>\n",
              "      <td>C</td>\n",
              "      <td>6</td>\n",
              "      <td>11</td>\n",
              "      <td>7</td>\n",
              "      <td>8</td>\n",
              "      <td>4</td>\n",
              "      <td>6</td>\n",
              "      <td>7</td>\n",
              "      <td>10</td>\n",
              "      <td>9</td>\n",
              "      <td>10</td>\n",
              "      <td>7</td>\n",
              "      <td>11</td>\n",
              "      <td>2</td>\n",
              "      <td>12</td>\n",
              "      <td>4</td>\n",
              "      <td>9</td>\n",
              "    </tr>\n",
              "    <tr>\n",
              "      <th>1507</th>\n",
              "      <td>G</td>\n",
              "      <td>5</td>\n",
              "      <td>9</td>\n",
              "      <td>6</td>\n",
              "      <td>7</td>\n",
              "      <td>4</td>\n",
              "      <td>6</td>\n",
              "      <td>7</td>\n",
              "      <td>6</td>\n",
              "      <td>6</td>\n",
              "      <td>10</td>\n",
              "      <td>7</td>\n",
              "      <td>10</td>\n",
              "      <td>2</td>\n",
              "      <td>9</td>\n",
              "      <td>5</td>\n",
              "      <td>9</td>\n",
              "    </tr>\n",
              "    <tr>\n",
              "      <th>1508</th>\n",
              "      <td>C</td>\n",
              "      <td>6</td>\n",
              "      <td>11</td>\n",
              "      <td>7</td>\n",
              "      <td>8</td>\n",
              "      <td>5</td>\n",
              "      <td>5</td>\n",
              "      <td>8</td>\n",
              "      <td>7</td>\n",
              "      <td>6</td>\n",
              "      <td>8</td>\n",
              "      <td>8</td>\n",
              "      <td>15</td>\n",
              "      <td>4</td>\n",
              "      <td>9</td>\n",
              "      <td>6</td>\n",
              "      <td>6</td>\n",
              "    </tr>\n",
              "    <tr>\n",
              "      <th>1509</th>\n",
              "      <td>C</td>\n",
              "      <td>5</td>\n",
              "      <td>10</td>\n",
              "      <td>5</td>\n",
              "      <td>8</td>\n",
              "      <td>3</td>\n",
              "      <td>6</td>\n",
              "      <td>8</td>\n",
              "      <td>7</td>\n",
              "      <td>7</td>\n",
              "      <td>13</td>\n",
              "      <td>7</td>\n",
              "      <td>9</td>\n",
              "      <td>2</td>\n",
              "      <td>11</td>\n",
              "      <td>3</td>\n",
              "      <td>7</td>\n",
              "    </tr>\n",
              "  </tbody>\n",
              "</table>\n",
              "</div>"
            ],
            "text/plain": [
              "0    Class x-box y-box width high onpix  ... x2ybr xy2br x-ege xegvy y-ege yegvx\n",
              "1505     C     5    10     6    8     4  ...     9    12     2    10     4     9\n",
              "1506     C     6    11     7    8     4  ...     7    11     2    12     4     9\n",
              "1507     G     5     9     6    7     4  ...     7    10     2     9     5     9\n",
              "1508     C     6    11     7    8     5  ...     8    15     4     9     6     6\n",
              "1509     C     5    10     5    8     3  ...     7     9     2    11     3     7\n",
              "\n",
              "[5 rows x 17 columns]"
            ]
          },
          "metadata": {
            "tags": []
          },
          "execution_count": 168
        }
      ]
    },
    {
      "cell_type": "code",
      "metadata": {
        "id": "-ceTW29OL8qd"
      },
      "source": [
        "#setting index\n",
        "#data.set_index(['Class'], drop=True, inplace=True)\n",
        "#data.reset_index(inplace=True)"
      ],
      "execution_count": null,
      "outputs": []
    },
    {
      "cell_type": "code",
      "metadata": {
        "colab": {
          "base_uri": "https://localhost:8080/",
          "height": 204
        },
        "id": "_TPTZIjuMVGJ",
        "outputId": "3c1296b1-70c6-4b21-fcbb-eda4e2b346c9"
      },
      "source": [
        "data.head()"
      ],
      "execution_count": null,
      "outputs": [
        {
          "output_type": "execute_result",
          "data": {
            "text/html": [
              "<div>\n",
              "<style scoped>\n",
              "    .dataframe tbody tr th:only-of-type {\n",
              "        vertical-align: middle;\n",
              "    }\n",
              "\n",
              "    .dataframe tbody tr th {\n",
              "        vertical-align: top;\n",
              "    }\n",
              "\n",
              "    .dataframe thead th {\n",
              "        text-align: right;\n",
              "    }\n",
              "</style>\n",
              "<table border=\"1\" class=\"dataframe\">\n",
              "  <thead>\n",
              "    <tr style=\"text-align: right;\">\n",
              "      <th></th>\n",
              "      <th>Class</th>\n",
              "      <th>x-box</th>\n",
              "      <th>y-box</th>\n",
              "      <th>width</th>\n",
              "      <th>high</th>\n",
              "      <th>onpix</th>\n",
              "      <th>x-bar</th>\n",
              "      <th>y-bar</th>\n",
              "      <th>x2bar</th>\n",
              "      <th>y2bar</th>\n",
              "      <th>xybar</th>\n",
              "      <th>x2ybr</th>\n",
              "      <th>xy2br</th>\n",
              "      <th>x-ege</th>\n",
              "      <th>xegvy</th>\n",
              "      <th>y-ege</th>\n",
              "      <th>yegvx</th>\n",
              "    </tr>\n",
              "  </thead>\n",
              "  <tbody>\n",
              "    <tr>\n",
              "      <th>0</th>\n",
              "      <td>C</td>\n",
              "      <td>4</td>\n",
              "      <td>10</td>\n",
              "      <td>5</td>\n",
              "      <td>8</td>\n",
              "      <td>2</td>\n",
              "      <td>5</td>\n",
              "      <td>7</td>\n",
              "      <td>7</td>\n",
              "      <td>10</td>\n",
              "      <td>7</td>\n",
              "      <td>6</td>\n",
              "      <td>13</td>\n",
              "      <td>1</td>\n",
              "      <td>8</td>\n",
              "      <td>4</td>\n",
              "      <td>9</td>\n",
              "    </tr>\n",
              "    <tr>\n",
              "      <th>1</th>\n",
              "      <td>C</td>\n",
              "      <td>3</td>\n",
              "      <td>5</td>\n",
              "      <td>4</td>\n",
              "      <td>4</td>\n",
              "      <td>2</td>\n",
              "      <td>4</td>\n",
              "      <td>8</td>\n",
              "      <td>5</td>\n",
              "      <td>7</td>\n",
              "      <td>12</td>\n",
              "      <td>9</td>\n",
              "      <td>11</td>\n",
              "      <td>1</td>\n",
              "      <td>10</td>\n",
              "      <td>2</td>\n",
              "      <td>7</td>\n",
              "    </tr>\n",
              "    <tr>\n",
              "      <th>2</th>\n",
              "      <td>G</td>\n",
              "      <td>5</td>\n",
              "      <td>10</td>\n",
              "      <td>6</td>\n",
              "      <td>7</td>\n",
              "      <td>3</td>\n",
              "      <td>8</td>\n",
              "      <td>7</td>\n",
              "      <td>8</td>\n",
              "      <td>8</td>\n",
              "      <td>6</td>\n",
              "      <td>7</td>\n",
              "      <td>9</td>\n",
              "      <td>2</td>\n",
              "      <td>7</td>\n",
              "      <td>5</td>\n",
              "      <td>10</td>\n",
              "    </tr>\n",
              "    <tr>\n",
              "      <th>3</th>\n",
              "      <td>C</td>\n",
              "      <td>5</td>\n",
              "      <td>9</td>\n",
              "      <td>6</td>\n",
              "      <td>7</td>\n",
              "      <td>4</td>\n",
              "      <td>3</td>\n",
              "      <td>8</td>\n",
              "      <td>6</td>\n",
              "      <td>7</td>\n",
              "      <td>12</td>\n",
              "      <td>10</td>\n",
              "      <td>13</td>\n",
              "      <td>1</td>\n",
              "      <td>9</td>\n",
              "      <td>3</td>\n",
              "      <td>7</td>\n",
              "    </tr>\n",
              "    <tr>\n",
              "      <th>4</th>\n",
              "      <td>G</td>\n",
              "      <td>4</td>\n",
              "      <td>8</td>\n",
              "      <td>5</td>\n",
              "      <td>6</td>\n",
              "      <td>3</td>\n",
              "      <td>6</td>\n",
              "      <td>6</td>\n",
              "      <td>7</td>\n",
              "      <td>6</td>\n",
              "      <td>10</td>\n",
              "      <td>7</td>\n",
              "      <td>12</td>\n",
              "      <td>2</td>\n",
              "      <td>9</td>\n",
              "      <td>4</td>\n",
              "      <td>9</td>\n",
              "    </tr>\n",
              "  </tbody>\n",
              "</table>\n",
              "</div>"
            ],
            "text/plain": [
              "0 Class x-box y-box width high onpix  ... x2ybr xy2br x-ege xegvy y-ege yegvx\n",
              "0     C     4    10     5    8     2  ...     6    13     1     8     4     9\n",
              "1     C     3     5     4    4     2  ...     9    11     1    10     2     7\n",
              "2     G     5    10     6    7     3  ...     7     9     2     7     5    10\n",
              "3     C     5     9     6    7     4  ...    10    13     1     9     3     7\n",
              "4     G     4     8     5    6     3  ...     7    12     2     9     4     9\n",
              "\n",
              "[5 rows x 17 columns]"
            ]
          },
          "metadata": {
            "tags": []
          },
          "execution_count": 173
        }
      ]
    },
    {
      "cell_type": "code",
      "metadata": {
        "colab": {
          "base_uri": "https://localhost:8080/",
          "height": 204
        },
        "id": "wSvLX0yZPKj1",
        "outputId": "ab0eae5f-aa07-47cf-84f9-83580b129b5c"
      },
      "source": [
        "#Encoding labels using get_dummies function\n",
        "data['Class'] = pd.get_dummies(data['Class'], drop_first=True)\n",
        "#Check encodeding done\n",
        "data.head()"
      ],
      "execution_count": null,
      "outputs": [
        {
          "output_type": "execute_result",
          "data": {
            "text/html": [
              "<div>\n",
              "<style scoped>\n",
              "    .dataframe tbody tr th:only-of-type {\n",
              "        vertical-align: middle;\n",
              "    }\n",
              "\n",
              "    .dataframe tbody tr th {\n",
              "        vertical-align: top;\n",
              "    }\n",
              "\n",
              "    .dataframe thead th {\n",
              "        text-align: right;\n",
              "    }\n",
              "</style>\n",
              "<table border=\"1\" class=\"dataframe\">\n",
              "  <thead>\n",
              "    <tr style=\"text-align: right;\">\n",
              "      <th></th>\n",
              "      <th>Class</th>\n",
              "      <th>x-box</th>\n",
              "      <th>y-box</th>\n",
              "      <th>width</th>\n",
              "      <th>high</th>\n",
              "      <th>onpix</th>\n",
              "      <th>x-bar</th>\n",
              "      <th>y-bar</th>\n",
              "      <th>x2bar</th>\n",
              "      <th>y2bar</th>\n",
              "      <th>xybar</th>\n",
              "      <th>x2ybr</th>\n",
              "      <th>xy2br</th>\n",
              "      <th>x-ege</th>\n",
              "      <th>xegvy</th>\n",
              "      <th>y-ege</th>\n",
              "      <th>yegvx</th>\n",
              "    </tr>\n",
              "  </thead>\n",
              "  <tbody>\n",
              "    <tr>\n",
              "      <th>0</th>\n",
              "      <td>0</td>\n",
              "      <td>4</td>\n",
              "      <td>10</td>\n",
              "      <td>5</td>\n",
              "      <td>8</td>\n",
              "      <td>2</td>\n",
              "      <td>5</td>\n",
              "      <td>7</td>\n",
              "      <td>7</td>\n",
              "      <td>10</td>\n",
              "      <td>7</td>\n",
              "      <td>6</td>\n",
              "      <td>13</td>\n",
              "      <td>1</td>\n",
              "      <td>8</td>\n",
              "      <td>4</td>\n",
              "      <td>9</td>\n",
              "    </tr>\n",
              "    <tr>\n",
              "      <th>1</th>\n",
              "      <td>0</td>\n",
              "      <td>3</td>\n",
              "      <td>5</td>\n",
              "      <td>4</td>\n",
              "      <td>4</td>\n",
              "      <td>2</td>\n",
              "      <td>4</td>\n",
              "      <td>8</td>\n",
              "      <td>5</td>\n",
              "      <td>7</td>\n",
              "      <td>12</td>\n",
              "      <td>9</td>\n",
              "      <td>11</td>\n",
              "      <td>1</td>\n",
              "      <td>10</td>\n",
              "      <td>2</td>\n",
              "      <td>7</td>\n",
              "    </tr>\n",
              "    <tr>\n",
              "      <th>2</th>\n",
              "      <td>1</td>\n",
              "      <td>5</td>\n",
              "      <td>10</td>\n",
              "      <td>6</td>\n",
              "      <td>7</td>\n",
              "      <td>3</td>\n",
              "      <td>8</td>\n",
              "      <td>7</td>\n",
              "      <td>8</td>\n",
              "      <td>8</td>\n",
              "      <td>6</td>\n",
              "      <td>7</td>\n",
              "      <td>9</td>\n",
              "      <td>2</td>\n",
              "      <td>7</td>\n",
              "      <td>5</td>\n",
              "      <td>10</td>\n",
              "    </tr>\n",
              "    <tr>\n",
              "      <th>3</th>\n",
              "      <td>0</td>\n",
              "      <td>5</td>\n",
              "      <td>9</td>\n",
              "      <td>6</td>\n",
              "      <td>7</td>\n",
              "      <td>4</td>\n",
              "      <td>3</td>\n",
              "      <td>8</td>\n",
              "      <td>6</td>\n",
              "      <td>7</td>\n",
              "      <td>12</td>\n",
              "      <td>10</td>\n",
              "      <td>13</td>\n",
              "      <td>1</td>\n",
              "      <td>9</td>\n",
              "      <td>3</td>\n",
              "      <td>7</td>\n",
              "    </tr>\n",
              "    <tr>\n",
              "      <th>4</th>\n",
              "      <td>1</td>\n",
              "      <td>4</td>\n",
              "      <td>8</td>\n",
              "      <td>5</td>\n",
              "      <td>6</td>\n",
              "      <td>3</td>\n",
              "      <td>6</td>\n",
              "      <td>6</td>\n",
              "      <td>7</td>\n",
              "      <td>6</td>\n",
              "      <td>10</td>\n",
              "      <td>7</td>\n",
              "      <td>12</td>\n",
              "      <td>2</td>\n",
              "      <td>9</td>\n",
              "      <td>4</td>\n",
              "      <td>9</td>\n",
              "    </tr>\n",
              "  </tbody>\n",
              "</table>\n",
              "</div>"
            ],
            "text/plain": [
              "0  Class x-box y-box width high onpix  ... x2ybr xy2br x-ege xegvy y-ege yegvx\n",
              "0      0     4    10     5    8     2  ...     6    13     1     8     4     9\n",
              "1      0     3     5     4    4     2  ...     9    11     1    10     2     7\n",
              "2      1     5    10     6    7     3  ...     7     9     2     7     5    10\n",
              "3      0     5     9     6    7     4  ...    10    13     1     9     3     7\n",
              "4      1     4     8     5    6     3  ...     7    12     2     9     4     9\n",
              "\n",
              "[5 rows x 17 columns]"
            ]
          },
          "metadata": {
            "tags": []
          },
          "execution_count": 177
        }
      ]
    },
    {
      "cell_type": "code",
      "metadata": {
        "id": "gvG9-1AlNSmM"
      },
      "source": [
        "#Separate all numerical features and labels \n",
        "X = data.drop(labels='Class', axis=1)\n",
        "y = data['Class']"
      ],
      "execution_count": null,
      "outputs": []
    },
    {
      "cell_type": "code",
      "metadata": {
        "colab": {
          "base_uri": "https://localhost:8080/",
          "height": 51
        },
        "id": "2H7L6yepOA6J",
        "outputId": "d172960c-9b67-44b0-dd1e-3d6d7096b04f"
      },
      "source": [
        "display(X.shape)\n",
        "display(y.shape)"
      ],
      "execution_count": null,
      "outputs": [
        {
          "output_type": "display_data",
          "data": {
            "text/plain": [
              "(1509, 16)"
            ]
          },
          "metadata": {
            "tags": []
          }
        },
        {
          "output_type": "display_data",
          "data": {
            "text/plain": [
              "(1509,)"
            ]
          },
          "metadata": {
            "tags": []
          }
        }
      ]
    },
    {
      "cell_type": "code",
      "metadata": {
        "colab": {
          "base_uri": "https://localhost:8080/",
          "height": 85
        },
        "id": "iO7FCI9OFFMK",
        "outputId": "60b322d4-18ba-4513-acd7-28003e6a2620"
      },
      "source": [
        "#split train and test data\n",
        "X_train, X_test, y_train, y_test = train_test_split(X, y, test_size=0.3)\n",
        "\n",
        "display(X_train.shape, X_test.shape, y_train.shape, y_test.shape)"
      ],
      "execution_count": null,
      "outputs": [
        {
          "output_type": "display_data",
          "data": {
            "text/plain": [
              "(1056, 16)"
            ]
          },
          "metadata": {
            "tags": []
          }
        },
        {
          "output_type": "display_data",
          "data": {
            "text/plain": [
              "(453, 16)"
            ]
          },
          "metadata": {
            "tags": []
          }
        },
        {
          "output_type": "display_data",
          "data": {
            "text/plain": [
              "(1056,)"
            ]
          },
          "metadata": {
            "tags": []
          }
        },
        {
          "output_type": "display_data",
          "data": {
            "text/plain": [
              "(453,)"
            ]
          },
          "metadata": {
            "tags": []
          }
        }
      ]
    },
    {
      "cell_type": "markdown",
      "metadata": {
        "id": "cr29EB7JgCoa"
      },
      "source": [
        "### MAX-DEPTH = 1"
      ]
    },
    {
      "cell_type": "code",
      "metadata": {
        "colab": {
          "base_uri": "https://localhost:8080/",
          "height": 265
        },
        "id": "40qOcQ7hOF48",
        "outputId": "7c4a2af6-8d22-46cc-ff52-1957988965ff"
      },
      "source": [
        "#model accuracy checking using different number of weak learners range from 1 to 16\n",
        "accuracy = []\n",
        "clf = DecisionTreeClassifier(max_depth=1)\n",
        "\n",
        "clf.fit(X,y)\n",
        "\n",
        "#Function to check the \n",
        "def adaBoost_accuracy(X_train, X_test, y_train, y_test, weak_learners_range):\n",
        "  \n",
        "  for i in weak_learners_range:\n",
        "    #create adaboost classifier object \n",
        "    ada_boost = AdaBoostClassifier(clf, n_estimators = i, random_state=0) \n",
        "    #train adaboost classifier\n",
        "    ada_boost.fit(X_train, y_train)\n",
        "\n",
        "    #predict the response of test data\n",
        "    pred = ada_boost.predict(X_test)\n",
        "\n",
        "    #Evaluate the model, how often the classifier is correct?\n",
        "    accuracy.append(accuracy_score(y_test, pred))\n",
        "\n",
        "  return accuracy\n",
        "\n",
        "weak_learners = range(1, 17, 1)\n",
        "score = adaBoost_accuracy(X_train, X_test, y_train, y_test, weak_learners)\n",
        "\n",
        "#Plot the model accuracy VS number of learners\n",
        "plt.plot(weak_learners, accuracy)\n",
        "plt.show()"
      ],
      "execution_count": null,
      "outputs": [
        {
          "output_type": "display_data",
          "data": {
            "image/png": "[encoded data removed]",
            "text/plain": [
              "<Figure size 432x288 with 1 Axes>"
            ]
          },
          "metadata": {
            "tags": [],
            "needs_background": "light"
          }
        }
      ]
    },
    {
      "cell_type": "markdown",
      "metadata": {
        "id": "RFDj_HcXf6to"
      },
      "source": [
        "### MAX - DEPTH = 2"
      ]
    },
    {
      "cell_type": "code",
      "metadata": {
        "colab": {
          "base_uri": "https://localhost:8080/",
          "height": 265
        },
        "id": "EQB4vR6gVUdb",
        "outputId": "f0ad66d8-b804-40d0-ce0f-6765524560a4"
      },
      "source": [
        "#model accuracy checking using different number of weak learners range from 1 to 16\n",
        "accuracy = []\n",
        "clf = DecisionTreeClassifier(max_depth=2)\n",
        "\n",
        "clf.fit(X,y)\n",
        "\n",
        "#Function to check the \n",
        "def adaBoost_accuracy(X_train, X_test, y_train, y_test, weak_learners_range):\n",
        "  \n",
        "  for i in weak_learners_range:\n",
        "    #create adaboost classifier object \n",
        "    ada_boost = AdaBoostClassifier(clf, n_estimators = i, random_state=0) \n",
        "    #train adaboost classifier\n",
        "    ada_boost.fit(X_train, y_train)\n",
        "\n",
        "    #predict the response of test data\n",
        "    pred = ada_boost.predict(X_test)\n",
        "\n",
        "    #Evaluate the model, how often the classifier is correct?\n",
        "    accuracy.append(accuracy_score(y_test, pred))\n",
        "\n",
        "  return accuracy\n",
        "\n",
        "weak_learners = range(1, 17, 1)\n",
        "score = adaBoost_accuracy(X_train, X_test, y_train, y_test, weak_learners)\n",
        "\n",
        "#Plot the model accuracy VS number of learners\n",
        "plt.plot(weak_learners, accuracy)\n",
        "plt.show()"
      ],
      "execution_count": null,
      "outputs": [
        {
          "output_type": "display_data",
          "data": {
            "image/png": "[encoded data removed]",
            "text/plain": [
              "<Figure size 432x288 with 1 Axes>"
            ]
          },
          "metadata": {
            "tags": [],
            "needs_background": "light"
          }
        }
      ]
    },
    {
      "cell_type": "code",
      "metadata": {
        "id": "pL2TUYY6FsP3"
      },
      "source": [
        ""
      ],
      "execution_count": null,
      "outputs": []
    }
  ]
}